{
  "nbformat": 4,
  "nbformat_minor": 0,
  "metadata": {
    "colab": {
      "name": "DA101-GPS.ipynb",
      "provenance": []
    },
    "kernelspec": {
      "name": "python3",
      "display_name": "Python 3"
    }
  },
  "cells": [
    {
      "cell_type": "code",
      "metadata": {
        "id": "qVHqduxKBoWk",
        "colab_type": "code",
        "colab": {}
      },
      "source": [
        "import numpy as np\n",
        "import pandas as pd\n",
        "import folium\n",
        "from folium import plugins"
      ],
      "execution_count": 0,
      "outputs": []
    },
    {
      "cell_type": "code",
      "metadata": {
        "id": "XN9CwSgLByYU",
        "colab_type": "code",
        "colab": {}
      },
      "source": [
        "df = pd.read_csv(\"https://rathachai.github.io/DA101/data/gps-data.csv\", parse_dates=[\"ts\"])"
      ],
      "execution_count": 0,
      "outputs": []
    },
    {
      "cell_type": "code",
      "metadata": {
        "id": "NOqqx79HB2Ea",
        "colab_type": "code",
        "colab": {}
      },
      "source": [
        "df"
      ],
      "execution_count": 0,
      "outputs": []
    },
    {
      "cell_type": "code",
      "metadata": {
        "id": "Qcc0Y4GuB_Vm",
        "colab_type": "code",
        "colab": {}
      },
      "source": [
        "df[\"vid\"]"
      ],
      "execution_count": 0,
      "outputs": []
    },
    {
      "cell_type": "code",
      "metadata": {
        "id": "G3Z2K_PRDIyV",
        "colab_type": "code",
        "colab": {}
      },
      "source": [
        "df[[\"vid\",\"speed\"]]"
      ],
      "execution_count": 0,
      "outputs": []
    },
    {
      "cell_type": "code",
      "metadata": {
        "id": "M1st9nZgDT3M",
        "colab_type": "code",
        "colab": {}
      },
      "source": [
        "df.sort_values(\"speed\")"
      ],
      "execution_count": 0,
      "outputs": []
    },
    {
      "cell_type": "code",
      "metadata": {
        "id": "_pmUU8qFDY_Y",
        "colab_type": "code",
        "colab": {}
      },
      "source": [
        "df[\"speed\"].mean()"
      ],
      "execution_count": 0,
      "outputs": []
    },
    {
      "cell_type": "code",
      "metadata": {
        "id": "A4LIPNmtDg3I",
        "colab_type": "code",
        "colab": {}
      },
      "source": [
        "df[df[\"speed\"]>0]"
      ],
      "execution_count": 0,
      "outputs": []
    },
    {
      "cell_type": "code",
      "metadata": {
        "id": "aBW0bbN-Dm0f",
        "colab_type": "code",
        "colab": {}
      },
      "source": [
        "df[df[\"speed\"]>0][\"speed\"].mean()"
      ],
      "execution_count": 0,
      "outputs": []
    },
    {
      "cell_type": "code",
      "metadata": {
        "id": "mMLnA6SYDq2Y",
        "colab_type": "code",
        "colab": {}
      },
      "source": [
        "df.describe()"
      ],
      "execution_count": 0,
      "outputs": []
    },
    {
      "cell_type": "code",
      "metadata": {
        "id": "H3SVoPbTEuWD",
        "colab_type": "code",
        "colab": {}
      },
      "source": [
        "df"
      ],
      "execution_count": 0,
      "outputs": []
    },
    {
      "cell_type": "code",
      "metadata": {
        "id": "T5viOXDdJRHM",
        "colab_type": "code",
        "colab": {}
      },
      "source": [
        "df[\"mph\"]=df[\"speed\"]*0.62"
      ],
      "execution_count": 0,
      "outputs": []
    },
    {
      "cell_type": "code",
      "metadata": {
        "id": "erCNmD8QJjML",
        "colab_type": "code",
        "colab": {}
      },
      "source": [
        "df.sort_values(\"mph\")"
      ],
      "execution_count": 0,
      "outputs": []
    },
    {
      "cell_type": "code",
      "metadata": {
        "id": "vH4MGo8kJ07p",
        "colab_type": "code",
        "colab": {}
      },
      "source": [
        "df[\"hour\"] = df[\"ts\"].dt.hour"
      ],
      "execution_count": 0,
      "outputs": []
    },
    {
      "cell_type": "code",
      "metadata": {
        "id": "0YP-_qsdJ94r",
        "colab_type": "code",
        "colab": {}
      },
      "source": [
        "df"
      ],
      "execution_count": 0,
      "outputs": []
    },
    {
      "cell_type": "code",
      "metadata": {
        "id": "zfEmbTl-KCSc",
        "colab_type": "code",
        "colab": {}
      },
      "source": [
        "df[\"vid\"].unique()"
      ],
      "execution_count": 0,
      "outputs": []
    },
    {
      "cell_type": "code",
      "metadata": {
        "id": "FkxEz_NOKUSg",
        "colab_type": "code",
        "colab": {}
      },
      "source": [
        "len(df[\"vid\"].unique())"
      ],
      "execution_count": 0,
      "outputs": []
    },
    {
      "cell_type": "code",
      "metadata": {
        "id": "IjQ8-yiNKYzL",
        "colab_type": "code",
        "colab": {}
      },
      "source": [
        "df[[\"vid\",\"speed\"]].groupby(\"vid\").mean()"
      ],
      "execution_count": 0,
      "outputs": []
    },
    {
      "cell_type": "code",
      "metadata": {
        "id": "WOvXGwN7KoKE",
        "colab_type": "code",
        "colab": {}
      },
      "source": [
        "df[[\"vid\",\"speed\"]][df[\"speed\"]>0].groupby(\"vid\").mean()"
      ],
      "execution_count": 0,
      "outputs": []
    },
    {
      "cell_type": "code",
      "metadata": {
        "id": "sbD_Xo8cK8SJ",
        "colab_type": "code",
        "colab": {}
      },
      "source": [
        "df[[\"vid\",\"speed\"]][df[\"speed\"]>0].groupby(\"vid\").max()"
      ],
      "execution_count": 0,
      "outputs": []
    },
    {
      "cell_type": "code",
      "metadata": {
        "id": "D5JSDzWiLDuu",
        "colab_type": "code",
        "colab": {}
      },
      "source": [
        "df[[\"hour\",\"speed\"]][df[\"speed\"]>0].groupby(\"hour\").mean()"
      ],
      "execution_count": 0,
      "outputs": []
    },
    {
      "cell_type": "code",
      "metadata": {
        "id": "zgBCQeA_LR_K",
        "colab_type": "code",
        "colab": {}
      },
      "source": [
        "df[[\"hour\",\"speed\"]][df[\"speed\"]>0].groupby(\"hour\").max()"
      ],
      "execution_count": 0,
      "outputs": []
    },
    {
      "cell_type": "code",
      "metadata": {
        "id": "5B0UP54WLWsc",
        "colab_type": "code",
        "colab": {}
      },
      "source": [
        "df[[\"hour\",\"speed\"]][df[\"speed\"]>0].groupby(\"hour\").agg([\"max\",\"mean\",\"min\"])"
      ],
      "execution_count": 0,
      "outputs": []
    },
    {
      "cell_type": "code",
      "metadata": {
        "id": "_jKISdi_LdBi",
        "colab_type": "code",
        "colab": {}
      },
      "source": [
        "report_by_hour = df[[\"hour\",\"speed\"]][df[\"speed\"]>0].groupby(\"hour\").agg([\"max\",\"mean\",\"min\"])"
      ],
      "execution_count": 0,
      "outputs": []
    },
    {
      "cell_type": "code",
      "metadata": {
        "id": "ad3vj6_XLoE3",
        "colab_type": "code",
        "colab": {}
      },
      "source": [
        "report_by_hour"
      ],
      "execution_count": 0,
      "outputs": []
    },
    {
      "cell_type": "code",
      "metadata": {
        "id": "x4Xz2C7GLpnd",
        "colab_type": "code",
        "colab": {}
      },
      "source": [
        "report_by_hour.plot()"
      ],
      "execution_count": 0,
      "outputs": []
    },
    {
      "cell_type": "code",
      "metadata": {
        "id": "SWc2iMj4Lrzi",
        "colab_type": "code",
        "colab": {}
      },
      "source": [
        "report_by_hour.plot(title=\"Speed by Hour\")"
      ],
      "execution_count": 0,
      "outputs": []
    },
    {
      "cell_type": "code",
      "metadata": {
        "id": "ikKTJyaTMCoj",
        "colab_type": "code",
        "colab": {}
      },
      "source": [
        "report_by_hour.plot.bar()"
      ],
      "execution_count": 0,
      "outputs": []
    },
    {
      "cell_type": "code",
      "metadata": {
        "id": "tHCLe6FQM6pF",
        "colab_type": "code",
        "colab": {}
      },
      "source": [
        "report_by_hour.plot.barh()"
      ],
      "execution_count": 0,
      "outputs": []
    },
    {
      "cell_type": "code",
      "metadata": {
        "id": "U4S4-3x_M8gx",
        "colab_type": "code",
        "colab": {}
      },
      "source": [
        "report_by_hour.plot.area()"
      ],
      "execution_count": 0,
      "outputs": []
    },
    {
      "cell_type": "code",
      "metadata": {
        "id": "mFLjUhOzM-8o",
        "colab_type": "code",
        "colab": {}
      },
      "source": [
        "df[df[\"speed\"]>0][\"speed\"].plot.hist()"
      ],
      "execution_count": 0,
      "outputs": []
    },
    {
      "cell_type": "code",
      "metadata": {
        "id": "Hl9y_GDJNxrP",
        "colab_type": "code",
        "colab": {}
      },
      "source": [
        "df[df[\"speed\"]>0][\"speed\"].plot.box()"
      ],
      "execution_count": 0,
      "outputs": []
    },
    {
      "cell_type": "code",
      "metadata": {
        "id": "pWusYc64N188",
        "colab_type": "code",
        "colab": {}
      },
      "source": [
        ""
      ],
      "execution_count": 0,
      "outputs": []
    },
    {
      "cell_type": "code",
      "metadata": {
        "id": "3NmnfNOYOLsi",
        "colab_type": "code",
        "colab": {}
      },
      "source": [
        "df[\"4hours\"] = round(np.floor(df[\"hour\"]/4)*4).astype(int)"
      ],
      "execution_count": 0,
      "outputs": []
    },
    {
      "cell_type": "code",
      "metadata": {
        "id": "-29TZxSlPzaS",
        "colab_type": "code",
        "colab": {}
      },
      "source": [
        "df"
      ],
      "execution_count": 0,
      "outputs": []
    },
    {
      "cell_type": "code",
      "metadata": {
        "id": "lEMiN3SZQsIC",
        "colab_type": "code",
        "colab": {}
      },
      "source": [
        "report_by_4hours = df[[\"4hours\",\"speed\"]][df[\"speed\"]>0].groupby(\"4hours\").agg([\"max\",\"mean\",\"min\"])"
      ],
      "execution_count": 0,
      "outputs": []
    },
    {
      "cell_type": "code",
      "metadata": {
        "id": "DRXZh7nDRYjq",
        "colab_type": "code",
        "colab": {}
      },
      "source": [
        "report_by_4hours"
      ],
      "execution_count": 0,
      "outputs": []
    },
    {
      "cell_type": "code",
      "metadata": {
        "id": "d0xHujakRa8F",
        "colab_type": "code",
        "colab": {}
      },
      "source": [
        "report_by_4hours.plot.bar()"
      ],
      "execution_count": 0,
      "outputs": []
    },
    {
      "cell_type": "code",
      "metadata": {
        "id": "TdPjxP9qRg8q",
        "colab_type": "code",
        "colab": {}
      },
      "source": [
        "report_by_4hours.plot.pie(subplots=True, legend=False)"
      ],
      "execution_count": 0,
      "outputs": []
    },
    {
      "cell_type": "code",
      "metadata": {
        "id": "FX01gX2gS3AN",
        "colab_type": "code",
        "colab": {}
      },
      "source": [
        "m = folium.Map(\n",
        "    width='50%', \n",
        "    height='50%',\n",
        "    location=[13.715450,\t100.799183\t],\n",
        "    zoom_start=12,\n",
        "    tiles='Stamen Terrain'\n",
        ")\n",
        "folium.PolyLine([[13.715450,\t100.799183\t],[13.725433,\t100.789167]]).add_to(m)\n",
        "\n",
        "m"
      ],
      "execution_count": 0,
      "outputs": []
    },
    {
      "cell_type": "code",
      "metadata": {
        "id": "B1NMOFFwUgo0",
        "colab_type": "code",
        "colab": {}
      },
      "source": [
        "points = [(lat,lon) for lat,lon in zip(df[\"lat\"],df[\"lon\"])]"
      ],
      "execution_count": 0,
      "outputs": []
    },
    {
      "cell_type": "code",
      "metadata": {
        "id": "W5lp054wVzQS",
        "colab_type": "code",
        "colab": {}
      },
      "source": [
        "points[:10]"
      ],
      "execution_count": 0,
      "outputs": []
    },
    {
      "cell_type": "code",
      "metadata": {
        "id": "m3VAV9b4WEPd",
        "colab_type": "code",
        "colab": {}
      },
      "source": [
        "m = folium.Map(\n",
        "    width='50%', \n",
        "    height='50%',\n",
        "    location=[13.715450,\t100.799183\t],\n",
        "    zoom_start=13,\n",
        "    tiles='Stamen Terrain'\n",
        ")\n",
        "m.add_child(plugins.HeatMap(points))\n",
        "\n",
        "m"
      ],
      "execution_count": 0,
      "outputs": []
    }
  ]
}