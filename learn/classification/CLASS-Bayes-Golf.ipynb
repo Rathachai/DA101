{
  "nbformat": 4,
  "nbformat_minor": 0,
  "metadata": {
    "colab": {
      "name": "Golf-Bayes.ipynb",
      "provenance": []
    },
    "kernelspec": {
      "name": "python3",
      "display_name": "Python 3"
    }
  },
  "cells": [
    {
      "cell_type": "markdown",
      "metadata": {
        "id": "Dxih8hpsi273",
        "colab_type": "text"
      },
      "source": [
        "# Naive Bayes on Golf Dataset for the Data Analytics Session\n",
        "by Rathachai C."
      ]
    },
    {
      "cell_type": "markdown",
      "metadata": {
        "id": "U5ZF6Q_0jN7Q",
        "colab_type": "text"
      },
      "source": [
        "## 1) To load libraries"
      ]
    },
    {
      "cell_type": "code",
      "metadata": {
        "id": "ZyNr-UD9ivrz",
        "colab_type": "code",
        "colab": {}
      },
      "source": [
        "import numpy as np\n",
        "import pandas as pd\n",
        "from sklearn.model_selection import train_test_split\n",
        "from sklearn.preprocessing import LabelEncoder\n",
        "from sklearn.naive_bayes import GaussianNB\n",
        "from sklearn.metrics import confusion_matrix\n"
      ],
      "execution_count": null,
      "outputs": []
    },
    {
      "cell_type": "markdown",
      "metadata": {
        "id": "pY4OkLphjXnl",
        "colab_type": "text"
      },
      "source": [
        "## 2) To load data and check"
      ]
    },
    {
      "cell_type": "code",
      "metadata": {
        "id": "HrRFZqaQjYU2",
        "colab_type": "code",
        "colab": {}
      },
      "source": [
        "df = pd.read_csv(\"https://rathachai.github.io/DA101/data/golf.csv\")"
      ],
      "execution_count": null,
      "outputs": []
    },
    {
      "cell_type": "code",
      "metadata": {
        "id": "POhWhmvDjeE_",
        "colab_type": "code",
        "colab": {}
      },
      "source": [
        "df.head()"
      ],
      "execution_count": null,
      "outputs": []
    },
    {
      "cell_type": "code",
      "metadata": {
        "id": "ZABc24k4x_aK",
        "colab_type": "code",
        "colab": {}
      },
      "source": [
        "lb_make = LabelEncoder()"
      ],
      "execution_count": null,
      "outputs": []
    },
    {
      "cell_type": "code",
      "metadata": {
        "id": "aQSEop21wO83",
        "colab_type": "code",
        "colab": {}
      },
      "source": [
        "df[\"outlook_x\"] = lb_make.fit_transform(df[\"outlook\"])\n",
        "df[\"temp_x\"] = lb_make.fit_transform(df[\"temperature\"])\n",
        "df[\"hum_x\"] = lb_make.fit_transform(df[\"humidity\"])\n",
        "df[\"wind_x\"] = lb_make.fit_transform(df[\"windy\"])"
      ],
      "execution_count": null,
      "outputs": []
    },
    {
      "cell_type": "code",
      "metadata": {
        "id": "Ki53aTarxRDH",
        "colab_type": "code",
        "colab": {}
      },
      "source": [
        "df.head()"
      ],
      "execution_count": null,
      "outputs": []
    },
    {
      "cell_type": "code",
      "metadata": {
        "id": "CKHrZgiRnSA-",
        "colab_type": "code",
        "colab": {}
      },
      "source": [
        "X = df[[\"outlook_x\",\"temp_x\", \"hum_x\", \"wind_x\"]]\n",
        "y = df[\"play\"]"
      ],
      "execution_count": null,
      "outputs": []
    },
    {
      "cell_type": "markdown",
      "metadata": {
        "id": "SliG_KMhm6iC",
        "colab_type": "text"
      },
      "source": [
        "## 3) To Create a Model"
      ]
    },
    {
      "cell_type": "markdown",
      "metadata": {
        "id": "bYGku-VDnCO_",
        "colab_type": "text"
      },
      "source": [
        "### 3.1) Train/Test Split"
      ]
    },
    {
      "cell_type": "code",
      "metadata": {
        "id": "RSDZk0A2nGaK",
        "colab_type": "code",
        "colab": {}
      },
      "source": [
        "X_train, X_test, y_train, y_test = train_test_split(X, y, test_size=0.2, random_state=332)"
      ],
      "execution_count": null,
      "outputs": []
    },
    {
      "cell_type": "markdown",
      "metadata": {
        "id": "6DbSv5_txbJb",
        "colab_type": "text"
      },
      "source": [
        "### 3.2) Create a Model"
      ]
    },
    {
      "cell_type": "code",
      "metadata": {
        "id": "85kpfh49xdgh",
        "colab_type": "code",
        "colab": {}
      },
      "source": [
        "clf = GaussianNB()"
      ],
      "execution_count": null,
      "outputs": []
    },
    {
      "cell_type": "code",
      "metadata": {
        "id": "QF9rump_xoPx",
        "colab_type": "code",
        "colab": {}
      },
      "source": [
        "clf.fit(X,y)"
      ],
      "execution_count": null,
      "outputs": []
    },
    {
      "cell_type": "markdown",
      "metadata": {
        "id": "0msF0Zu6yToQ",
        "colab_type": "text"
      },
      "source": [
        "## 4) To Evaluate the Model"
      ]
    },
    {
      "cell_type": "code",
      "metadata": {
        "id": "cmPchcOMyYJn",
        "colab_type": "code",
        "colab": {}
      },
      "source": [
        "y_pred = clf.predict(X)"
      ],
      "execution_count": null,
      "outputs": []
    },
    {
      "cell_type": "code",
      "metadata": {
        "id": "Y2fWuF7py1Ak",
        "colab_type": "code",
        "colab": {}
      },
      "source": [
        "y_pred"
      ],
      "execution_count": null,
      "outputs": []
    },
    {
      "cell_type": "code",
      "metadata": {
        "id": "yjZJTMvhyfQL",
        "colab_type": "code",
        "colab": {}
      },
      "source": [
        "confusion_matrix(y, y_pred, labels=y.unique())"
      ],
      "execution_count": null,
      "outputs": []
    },
    {
      "cell_type": "markdown",
      "metadata": {
        "id": "ooubvE1pzoAP",
        "colab_type": "text"
      },
      "source": [
        "## 5) Other Experiments"
      ]
    },
    {
      "cell_type": "code",
      "metadata": {
        "id": "lidXSrkS0V56",
        "colab_type": "code",
        "colab": {}
      },
      "source": [
        "df.iloc[10:14]"
      ],
      "execution_count": null,
      "outputs": []
    },
    {
      "cell_type": "code",
      "metadata": {
        "id": "bcjoHGxn0ALv",
        "colab_type": "code",
        "colab": {}
      },
      "source": [
        "X.iloc[10:14]"
      ],
      "execution_count": null,
      "outputs": []
    },
    {
      "cell_type": "code",
      "metadata": {
        "id": "L_LGmy6G0HPY",
        "colab_type": "code",
        "colab": {}
      },
      "source": [
        "clf.classes_"
      ],
      "execution_count": null,
      "outputs": []
    },
    {
      "cell_type": "code",
      "metadata": {
        "id": "kEgwp_a3zsYP",
        "colab_type": "code",
        "colab": {}
      },
      "source": [
        "clf.predict_proba(X.iloc[10:14])"
      ],
      "execution_count": null,
      "outputs": []
    }
  ]
}