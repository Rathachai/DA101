{
  "nbformat": 4,
  "nbformat_minor": 0,
  "metadata": {
    "colab": {
      "name": "CLASS-CHURN.ipynb",
      "provenance": [],
      "collapsed_sections": []
    },
    "kernelspec": {
      "name": "python3",
      "display_name": "Python 3"
    }
  },
  "cells": [
    {
      "cell_type": "markdown",
      "metadata": {
        "id": "i7_MKoJ0kkOA",
        "colab_type": "text"
      },
      "source": [
        "# Classification on Customer Churn Dataset for the Data Analytics Session\n",
        "by Rathachai C.\n"
      ]
    },
    {
      "cell_type": "markdown",
      "metadata": {
        "id": "fZ2Iv1X_kvtk",
        "colab_type": "text"
      },
      "source": [
        "## 0) To load libraries"
      ]
    },
    {
      "cell_type": "code",
      "metadata": {
        "id": "zAvT2DxEj5OF",
        "colab_type": "code",
        "colab": {}
      },
      "source": [
        "import pandas as pd\n",
        "import numpy as np\n",
        "import matplotlib.pyplot as plt\n",
        "import seaborn as sns\n",
        "%matplotlib inline\n",
        "\n",
        "from sklearn.model_selection import train_test_split\n",
        "from sklearn.linear_model import LogisticRegression\n",
        "from sklearn.preprocessing import LabelEncoder\n",
        "\n",
        "from sklearn.metrics import confusion_matrix\n",
        "from sklearn.metrics import classification_report\n",
        "from sklearn.metrics import f1_score"
      ],
      "execution_count": 0,
      "outputs": []
    },
    {
      "cell_type": "markdown",
      "metadata": {
        "id": "cHqjvjs4t7i1",
        "colab_type": "text"
      },
      "source": [
        "\n",
        "\n",
        "---\n",
        "\n"
      ]
    },
    {
      "cell_type": "markdown",
      "metadata": {
        "id": "-ev_5HJ8k1JD",
        "colab_type": "text"
      },
      "source": [
        "## 1) To load data and check"
      ]
    },
    {
      "cell_type": "code",
      "metadata": {
        "id": "iyKRl8AFkDX-",
        "colab_type": "code",
        "colab": {}
      },
      "source": [
        "churn = pd.read_csv('https://rathachai.github.io/DA101/data/customer-churn-data.csv')"
      ],
      "execution_count": 0,
      "outputs": []
    },
    {
      "cell_type": "code",
      "metadata": {
        "id": "a7gbpBr0kTfg",
        "colab_type": "code",
        "colab": {
          "base_uri": "https://localhost:8080/",
          "height": 402
        },
        "outputId": "b6a0e5c0-d61d-42d6-fc72-9c789e3d51c7"
      },
      "source": [
        "churn"
      ],
      "execution_count": 3,
      "outputs": [
        {
          "output_type": "execute_result",
          "data": {
            "text/html": [
              "<div>\n",
              "<style scoped>\n",
              "    .dataframe tbody tr th:only-of-type {\n",
              "        vertical-align: middle;\n",
              "    }\n",
              "\n",
              "    .dataframe tbody tr th {\n",
              "        vertical-align: top;\n",
              "    }\n",
              "\n",
              "    .dataframe thead th {\n",
              "        text-align: right;\n",
              "    }\n",
              "</style>\n",
              "<table border=\"1\" class=\"dataframe\">\n",
              "  <thead>\n",
              "    <tr style=\"text-align: right;\">\n",
              "      <th></th>\n",
              "      <th>Gender</th>\n",
              "      <th>Age</th>\n",
              "      <th>Payment Method</th>\n",
              "      <th>LastTransaction</th>\n",
              "      <th>Churn</th>\n",
              "    </tr>\n",
              "  </thead>\n",
              "  <tbody>\n",
              "    <tr>\n",
              "      <th>0</th>\n",
              "      <td>male</td>\n",
              "      <td>64</td>\n",
              "      <td>credit card</td>\n",
              "      <td>98</td>\n",
              "      <td>loyal</td>\n",
              "    </tr>\n",
              "    <tr>\n",
              "      <th>1</th>\n",
              "      <td>male</td>\n",
              "      <td>35</td>\n",
              "      <td>cheque</td>\n",
              "      <td>118</td>\n",
              "      <td>churn</td>\n",
              "    </tr>\n",
              "    <tr>\n",
              "      <th>2</th>\n",
              "      <td>female</td>\n",
              "      <td>25</td>\n",
              "      <td>credit card</td>\n",
              "      <td>107</td>\n",
              "      <td>loyal</td>\n",
              "    </tr>\n",
              "    <tr>\n",
              "      <th>3</th>\n",
              "      <td>female</td>\n",
              "      <td>39</td>\n",
              "      <td>credit card</td>\n",
              "      <td>177</td>\n",
              "      <td>NaN</td>\n",
              "    </tr>\n",
              "    <tr>\n",
              "      <th>4</th>\n",
              "      <td>male</td>\n",
              "      <td>39</td>\n",
              "      <td>credit card</td>\n",
              "      <td>90</td>\n",
              "      <td>loyal</td>\n",
              "    </tr>\n",
              "    <tr>\n",
              "      <th>...</th>\n",
              "      <td>...</td>\n",
              "      <td>...</td>\n",
              "      <td>...</td>\n",
              "      <td>...</td>\n",
              "      <td>...</td>\n",
              "    </tr>\n",
              "    <tr>\n",
              "      <th>991</th>\n",
              "      <td>female</td>\n",
              "      <td>29</td>\n",
              "      <td>credit card</td>\n",
              "      <td>33</td>\n",
              "      <td>loyal</td>\n",
              "    </tr>\n",
              "    <tr>\n",
              "      <th>992</th>\n",
              "      <td>male</td>\n",
              "      <td>84</td>\n",
              "      <td>credit card</td>\n",
              "      <td>124</td>\n",
              "      <td>loyal</td>\n",
              "    </tr>\n",
              "    <tr>\n",
              "      <th>993</th>\n",
              "      <td>male</td>\n",
              "      <td>20</td>\n",
              "      <td>credit card</td>\n",
              "      <td>60</td>\n",
              "      <td>NaN</td>\n",
              "    </tr>\n",
              "    <tr>\n",
              "      <th>994</th>\n",
              "      <td>male</td>\n",
              "      <td>19</td>\n",
              "      <td>credit card</td>\n",
              "      <td>49</td>\n",
              "      <td>loyal</td>\n",
              "    </tr>\n",
              "    <tr>\n",
              "      <th>995</th>\n",
              "      <td>female</td>\n",
              "      <td>24</td>\n",
              "      <td>credit card</td>\n",
              "      <td>25</td>\n",
              "      <td>loyal</td>\n",
              "    </tr>\n",
              "  </tbody>\n",
              "</table>\n",
              "<p>996 rows × 5 columns</p>\n",
              "</div>"
            ],
            "text/plain": [
              "     Gender  Age Payment Method  LastTransaction  Churn\n",
              "0      male   64    credit card               98  loyal\n",
              "1      male   35         cheque              118  churn\n",
              "2    female   25    credit card              107  loyal\n",
              "3    female   39    credit card              177    NaN\n",
              "4      male   39    credit card               90  loyal\n",
              "..      ...  ...            ...              ...    ...\n",
              "991  female   29    credit card               33  loyal\n",
              "992    male   84    credit card              124  loyal\n",
              "993    male   20    credit card               60    NaN\n",
              "994    male   19    credit card               49  loyal\n",
              "995  female   24    credit card               25  loyal\n",
              "\n",
              "[996 rows x 5 columns]"
            ]
          },
          "metadata": {
            "tags": []
          },
          "execution_count": 3
        }
      ]
    },
    {
      "cell_type": "code",
      "metadata": {
        "id": "SWylIoRukUp4",
        "colab_type": "code",
        "colab": {
          "base_uri": "https://localhost:8080/",
          "height": 185
        },
        "outputId": "dcd7b639-c451-49d9-e56a-14b128da992f"
      },
      "source": [
        "churn.info()"
      ],
      "execution_count": 4,
      "outputs": [
        {
          "output_type": "stream",
          "text": [
            "<class 'pandas.core.frame.DataFrame'>\n",
            "RangeIndex: 996 entries, 0 to 995\n",
            "Data columns (total 5 columns):\n",
            "Gender             996 non-null object\n",
            "Age                996 non-null int64\n",
            "Payment Method     996 non-null object\n",
            "LastTransaction    996 non-null int64\n",
            "Churn              900 non-null object\n",
            "dtypes: int64(2), object(3)\n",
            "memory usage: 39.0+ KB\n"
          ],
          "name": "stdout"
        }
      ]
    },
    {
      "cell_type": "code",
      "metadata": {
        "id": "IBJ0E-0XkZK6",
        "colab_type": "code",
        "colab": {
          "base_uri": "https://localhost:8080/",
          "height": 284
        },
        "outputId": "73e593a7-9dcf-4181-9419-f4f6143887cd"
      },
      "source": [
        "churn.describe()"
      ],
      "execution_count": 5,
      "outputs": [
        {
          "output_type": "execute_result",
          "data": {
            "text/html": [
              "<div>\n",
              "<style scoped>\n",
              "    .dataframe tbody tr th:only-of-type {\n",
              "        vertical-align: middle;\n",
              "    }\n",
              "\n",
              "    .dataframe tbody tr th {\n",
              "        vertical-align: top;\n",
              "    }\n",
              "\n",
              "    .dataframe thead th {\n",
              "        text-align: right;\n",
              "    }\n",
              "</style>\n",
              "<table border=\"1\" class=\"dataframe\">\n",
              "  <thead>\n",
              "    <tr style=\"text-align: right;\">\n",
              "      <th></th>\n",
              "      <th>Age</th>\n",
              "      <th>LastTransaction</th>\n",
              "    </tr>\n",
              "  </thead>\n",
              "  <tbody>\n",
              "    <tr>\n",
              "      <th>count</th>\n",
              "      <td>996.000000</td>\n",
              "      <td>996.000000</td>\n",
              "    </tr>\n",
              "    <tr>\n",
              "      <th>mean</th>\n",
              "      <td>45.616466</td>\n",
              "      <td>111.072289</td>\n",
              "    </tr>\n",
              "    <tr>\n",
              "      <th>std</th>\n",
              "      <td>18.776749</td>\n",
              "      <td>44.956045</td>\n",
              "    </tr>\n",
              "    <tr>\n",
              "      <th>min</th>\n",
              "      <td>17.000000</td>\n",
              "      <td>1.000000</td>\n",
              "    </tr>\n",
              "    <tr>\n",
              "      <th>25%</th>\n",
              "      <td>30.000000</td>\n",
              "      <td>77.000000</td>\n",
              "    </tr>\n",
              "    <tr>\n",
              "      <th>50%</th>\n",
              "      <td>44.000000</td>\n",
              "      <td>110.000000</td>\n",
              "    </tr>\n",
              "    <tr>\n",
              "      <th>75%</th>\n",
              "      <td>58.000000</td>\n",
              "      <td>145.000000</td>\n",
              "    </tr>\n",
              "    <tr>\n",
              "      <th>max</th>\n",
              "      <td>91.000000</td>\n",
              "      <td>223.000000</td>\n",
              "    </tr>\n",
              "  </tbody>\n",
              "</table>\n",
              "</div>"
            ],
            "text/plain": [
              "              Age  LastTransaction\n",
              "count  996.000000       996.000000\n",
              "mean    45.616466       111.072289\n",
              "std     18.776749        44.956045\n",
              "min     17.000000         1.000000\n",
              "25%     30.000000        77.000000\n",
              "50%     44.000000       110.000000\n",
              "75%     58.000000       145.000000\n",
              "max     91.000000       223.000000"
            ]
          },
          "metadata": {
            "tags": []
          },
          "execution_count": 5
        }
      ]
    },
    {
      "cell_type": "markdown",
      "metadata": {
        "id": "IjiSxANZt-Hx",
        "colab_type": "text"
      },
      "source": [
        "\n",
        "\n",
        "---\n",
        "\n"
      ]
    },
    {
      "cell_type": "markdown",
      "metadata": {
        "id": "Y7LMhWrF57TW",
        "colab_type": "text"
      },
      "source": [
        "## 2) To do data pre-processing"
      ]
    },
    {
      "cell_type": "code",
      "metadata": {
        "id": "BHPdQs0e6BxN",
        "colab_type": "code",
        "colab": {}
      },
      "source": [
        "churn.dropna(inplace=True)"
      ],
      "execution_count": 0,
      "outputs": []
    },
    {
      "cell_type": "code",
      "metadata": {
        "id": "ImhDTZVj6G9T",
        "colab_type": "code",
        "colab": {
          "base_uri": "https://localhost:8080/",
          "height": 185
        },
        "outputId": "f977dc32-9430-4363-c965-aedfe474a493"
      },
      "source": [
        "churn.info()"
      ],
      "execution_count": 7,
      "outputs": [
        {
          "output_type": "stream",
          "text": [
            "<class 'pandas.core.frame.DataFrame'>\n",
            "Int64Index: 900 entries, 0 to 995\n",
            "Data columns (total 5 columns):\n",
            "Gender             900 non-null object\n",
            "Age                900 non-null int64\n",
            "Payment Method     900 non-null object\n",
            "LastTransaction    900 non-null int64\n",
            "Churn              900 non-null object\n",
            "dtypes: int64(2), object(3)\n",
            "memory usage: 42.2+ KB\n"
          ],
          "name": "stdout"
        }
      ]
    },
    {
      "cell_type": "markdown",
      "metadata": {
        "id": "rOlQf3Ppk-DU",
        "colab_type": "text"
      },
      "source": [
        "## 3) To do data exploration"
      ]
    },
    {
      "cell_type": "markdown",
      "metadata": {
        "id": "6JviH0QNCLB3",
        "colab_type": "text"
      },
      "source": [
        "### 3.1) to view data"
      ]
    },
    {
      "cell_type": "code",
      "metadata": {
        "id": "YGiA3CHJ-bCM",
        "colab_type": "code",
        "colab": {
          "base_uri": "https://localhost:8080/",
          "height": 281
        },
        "outputId": "a105547b-a108-49f7-9973-ff148dc0a236"
      },
      "source": [
        "sns.countplot(x=\"Churn\", data=churn);\n"
      ],
      "execution_count": 8,
      "outputs": [
        {
          "output_type": "display_data",
          "data": {
            "image/png": "[encoded data removed]",
            "text/plain": [
              "<Figure size 432x288 with 1 Axes>"
            ]
          },
          "metadata": {
            "tags": []
          }
        }
      ]
    },
    {
      "cell_type": "code",
      "metadata": {
        "id": "BTA4esfLkdsx",
        "colab_type": "code",
        "colab": {
          "base_uri": "https://localhost:8080/",
          "height": 404
        },
        "outputId": "5ea98e96-fbed-4a4e-9c3a-c725b8074e3f"
      },
      "source": [
        "sns.pairplot(churn, hue=\"Churn\")"
      ],
      "execution_count": 9,
      "outputs": [
        {
          "output_type": "execute_result",
          "data": {
            "text/plain": [
              "<seaborn.axisgrid.PairGrid at 0x7f2df0098ba8>"
            ]
          },
          "metadata": {
            "tags": []
          },
          "execution_count": 9
        },
        {
          "output_type": "display_data",
          "data": {
            "image/png": "[encoded data removed]",
            "text/plain": [
              "<Figure size 424.75x360 with 6 Axes>"
            ]
          },
          "metadata": {
            "tags": []
          }
        }
      ]
    },
    {
      "cell_type": "code",
      "metadata": {
        "id": "X91zfmhxmaSc",
        "colab_type": "code",
        "colab": {
          "base_uri": "https://localhost:8080/",
          "height": 279
        },
        "outputId": "057b0499-b5c1-4b36-9cea-fd06a71a3c0a"
      },
      "source": [
        "sns.countplot(x=\"Gender\", hue=\"Churn\", data=churn);\n"
      ],
      "execution_count": 10,
      "outputs": [
        {
          "output_type": "display_data",
          "data": {
            "image/png": "[encoded data removed]",
            "text/plain": [
              "<Figure size 432x288 with 1 Axes>"
            ]
          },
          "metadata": {
            "tags": []
          }
        }
      ]
    },
    {
      "cell_type": "code",
      "metadata": {
        "id": "b8djk9VTlHMN",
        "colab_type": "code",
        "colab": {
          "base_uri": "https://localhost:8080/",
          "height": 279
        },
        "outputId": "a825f97a-0c94-4003-b517-5ef92f30d5d1"
      },
      "source": [
        "sns.countplot(x=\"Payment Method\", hue=\"Churn\", data=churn);"
      ],
      "execution_count": 11,
      "outputs": [
        {
          "output_type": "display_data",
          "data": {
            "image/png": "[encoded data removed]",
            "text/plain": [
              "<Figure size 432x288 with 1 Axes>"
            ]
          },
          "metadata": {
            "tags": []
          }
        }
      ]
    },
    {
      "cell_type": "markdown",
      "metadata": {
        "id": "ZC7m9TTnCF54",
        "colab_type": "text"
      },
      "source": [
        "### 3.2) to do data encoder"
      ]
    },
    {
      "cell_type": "code",
      "metadata": {
        "id": "2z9hLF_SB93p",
        "colab_type": "code",
        "colab": {}
      },
      "source": [
        "lb_make = LabelEncoder()"
      ],
      "execution_count": 0,
      "outputs": []
    },
    {
      "cell_type": "code",
      "metadata": {
        "id": "W6dqxKQwCQu0",
        "colab_type": "code",
        "colab": {}
      },
      "source": [
        "churn[\"Gender Code\"] = lb_make.fit_transform(churn[\"Gender\"])"
      ],
      "execution_count": 0,
      "outputs": []
    },
    {
      "cell_type": "markdown",
      "metadata": {
        "id": "2vQVeDZqCnw1",
        "colab_type": "text"
      },
      "source": [
        "### 3.3) to do one-hot encoding"
      ]
    },
    {
      "cell_type": "code",
      "metadata": {
        "id": "dcdaxbBRChfp",
        "colab_type": "code",
        "colab": {}
      },
      "source": [
        "churn = pd.get_dummies(churn, columns=[\"Payment Method\"])"
      ],
      "execution_count": 0,
      "outputs": []
    },
    {
      "cell_type": "code",
      "metadata": {
        "id": "IIKeEyuMDgmz",
        "colab_type": "code",
        "colab": {
          "base_uri": "https://localhost:8080/",
          "height": 402
        },
        "outputId": "c8cc41c8-a7b3-408a-91e7-b7240626cdc1"
      },
      "source": [
        "churn"
      ],
      "execution_count": 15,
      "outputs": [
        {
          "output_type": "execute_result",
          "data": {
            "text/html": [
              "<div>\n",
              "<style scoped>\n",
              "    .dataframe tbody tr th:only-of-type {\n",
              "        vertical-align: middle;\n",
              "    }\n",
              "\n",
              "    .dataframe tbody tr th {\n",
              "        vertical-align: top;\n",
              "    }\n",
              "\n",
              "    .dataframe thead th {\n",
              "        text-align: right;\n",
              "    }\n",
              "</style>\n",
              "<table border=\"1\" class=\"dataframe\">\n",
              "  <thead>\n",
              "    <tr style=\"text-align: right;\">\n",
              "      <th></th>\n",
              "      <th>Gender</th>\n",
              "      <th>Age</th>\n",
              "      <th>LastTransaction</th>\n",
              "      <th>Churn</th>\n",
              "      <th>Gender Code</th>\n",
              "      <th>Payment Method_cash</th>\n",
              "      <th>Payment Method_cheque</th>\n",
              "      <th>Payment Method_credit card</th>\n",
              "    </tr>\n",
              "  </thead>\n",
              "  <tbody>\n",
              "    <tr>\n",
              "      <th>0</th>\n",
              "      <td>male</td>\n",
              "      <td>64</td>\n",
              "      <td>98</td>\n",
              "      <td>loyal</td>\n",
              "      <td>1</td>\n",
              "      <td>0</td>\n",
              "      <td>0</td>\n",
              "      <td>1</td>\n",
              "    </tr>\n",
              "    <tr>\n",
              "      <th>1</th>\n",
              "      <td>male</td>\n",
              "      <td>35</td>\n",
              "      <td>118</td>\n",
              "      <td>churn</td>\n",
              "      <td>1</td>\n",
              "      <td>0</td>\n",
              "      <td>1</td>\n",
              "      <td>0</td>\n",
              "    </tr>\n",
              "    <tr>\n",
              "      <th>2</th>\n",
              "      <td>female</td>\n",
              "      <td>25</td>\n",
              "      <td>107</td>\n",
              "      <td>loyal</td>\n",
              "      <td>0</td>\n",
              "      <td>0</td>\n",
              "      <td>0</td>\n",
              "      <td>1</td>\n",
              "    </tr>\n",
              "    <tr>\n",
              "      <th>4</th>\n",
              "      <td>male</td>\n",
              "      <td>39</td>\n",
              "      <td>90</td>\n",
              "      <td>loyal</td>\n",
              "      <td>1</td>\n",
              "      <td>0</td>\n",
              "      <td>0</td>\n",
              "      <td>1</td>\n",
              "    </tr>\n",
              "    <tr>\n",
              "      <th>5</th>\n",
              "      <td>female</td>\n",
              "      <td>28</td>\n",
              "      <td>189</td>\n",
              "      <td>churn</td>\n",
              "      <td>0</td>\n",
              "      <td>0</td>\n",
              "      <td>1</td>\n",
              "      <td>0</td>\n",
              "    </tr>\n",
              "    <tr>\n",
              "      <th>...</th>\n",
              "      <td>...</td>\n",
              "      <td>...</td>\n",
              "      <td>...</td>\n",
              "      <td>...</td>\n",
              "      <td>...</td>\n",
              "      <td>...</td>\n",
              "      <td>...</td>\n",
              "      <td>...</td>\n",
              "    </tr>\n",
              "    <tr>\n",
              "      <th>990</th>\n",
              "      <td>male</td>\n",
              "      <td>19</td>\n",
              "      <td>92</td>\n",
              "      <td>loyal</td>\n",
              "      <td>1</td>\n",
              "      <td>0</td>\n",
              "      <td>0</td>\n",
              "      <td>1</td>\n",
              "    </tr>\n",
              "    <tr>\n",
              "      <th>991</th>\n",
              "      <td>female</td>\n",
              "      <td>29</td>\n",
              "      <td>33</td>\n",
              "      <td>loyal</td>\n",
              "      <td>0</td>\n",
              "      <td>0</td>\n",
              "      <td>0</td>\n",
              "      <td>1</td>\n",
              "    </tr>\n",
              "    <tr>\n",
              "      <th>992</th>\n",
              "      <td>male</td>\n",
              "      <td>84</td>\n",
              "      <td>124</td>\n",
              "      <td>loyal</td>\n",
              "      <td>1</td>\n",
              "      <td>0</td>\n",
              "      <td>0</td>\n",
              "      <td>1</td>\n",
              "    </tr>\n",
              "    <tr>\n",
              "      <th>994</th>\n",
              "      <td>male</td>\n",
              "      <td>19</td>\n",
              "      <td>49</td>\n",
              "      <td>loyal</td>\n",
              "      <td>1</td>\n",
              "      <td>0</td>\n",
              "      <td>0</td>\n",
              "      <td>1</td>\n",
              "    </tr>\n",
              "    <tr>\n",
              "      <th>995</th>\n",
              "      <td>female</td>\n",
              "      <td>24</td>\n",
              "      <td>25</td>\n",
              "      <td>loyal</td>\n",
              "      <td>0</td>\n",
              "      <td>0</td>\n",
              "      <td>0</td>\n",
              "      <td>1</td>\n",
              "    </tr>\n",
              "  </tbody>\n",
              "</table>\n",
              "<p>900 rows × 8 columns</p>\n",
              "</div>"
            ],
            "text/plain": [
              "     Gender  Age  ...  Payment Method_cheque Payment Method_credit card\n",
              "0      male   64  ...                      0                          1\n",
              "1      male   35  ...                      1                          0\n",
              "2    female   25  ...                      0                          1\n",
              "4      male   39  ...                      0                          1\n",
              "5    female   28  ...                      1                          0\n",
              "..      ...  ...  ...                    ...                        ...\n",
              "990    male   19  ...                      0                          1\n",
              "991  female   29  ...                      0                          1\n",
              "992    male   84  ...                      0                          1\n",
              "994    male   19  ...                      0                          1\n",
              "995  female   24  ...                      0                          1\n",
              "\n",
              "[900 rows x 8 columns]"
            ]
          },
          "metadata": {
            "tags": []
          },
          "execution_count": 15
        }
      ]
    },
    {
      "cell_type": "markdown",
      "metadata": {
        "id": "iDOP54vouBa0",
        "colab_type": "text"
      },
      "source": [
        "\n",
        "\n",
        "---\n",
        "\n"
      ]
    },
    {
      "cell_type": "markdown",
      "metadata": {
        "id": "qTGhyuFmsaSj",
        "colab_type": "text"
      },
      "source": [
        "## 4) To do **`Logistic Regression`**"
      ]
    },
    {
      "cell_type": "markdown",
      "metadata": {
        "id": "q9IIe8Ko_QMY",
        "colab_type": "text"
      },
      "source": [
        "### 4.1) To select data"
      ]
    },
    {
      "cell_type": "code",
      "metadata": {
        "id": "W7arbsYVnwwc",
        "colab_type": "code",
        "colab": {}
      },
      "source": [
        "X = churn[[\"Age\", \"LastTransaction\", \"Gender Code\", \"Payment Method_cash\", \"Payment Method_cheque\", \"Payment Method_credit card\"]]\n",
        "y = churn[\"Churn\"]"
      ],
      "execution_count": 0,
      "outputs": []
    },
    {
      "cell_type": "code",
      "metadata": {
        "id": "htpl01JYoHoT",
        "colab_type": "code",
        "colab": {
          "base_uri": "https://localhost:8080/",
          "height": 402
        },
        "outputId": "716b0cbd-086d-4f10-bf34-6db7cdf7519c"
      },
      "source": [
        "X"
      ],
      "execution_count": 17,
      "outputs": [
        {
          "output_type": "execute_result",
          "data": {
            "text/html": [
              "<div>\n",
              "<style scoped>\n",
              "    .dataframe tbody tr th:only-of-type {\n",
              "        vertical-align: middle;\n",
              "    }\n",
              "\n",
              "    .dataframe tbody tr th {\n",
              "        vertical-align: top;\n",
              "    }\n",
              "\n",
              "    .dataframe thead th {\n",
              "        text-align: right;\n",
              "    }\n",
              "</style>\n",
              "<table border=\"1\" class=\"dataframe\">\n",
              "  <thead>\n",
              "    <tr style=\"text-align: right;\">\n",
              "      <th></th>\n",
              "      <th>Age</th>\n",
              "      <th>LastTransaction</th>\n",
              "      <th>Gender Code</th>\n",
              "      <th>Payment Method_cash</th>\n",
              "      <th>Payment Method_cheque</th>\n",
              "      <th>Payment Method_credit card</th>\n",
              "    </tr>\n",
              "  </thead>\n",
              "  <tbody>\n",
              "    <tr>\n",
              "      <th>0</th>\n",
              "      <td>64</td>\n",
              "      <td>98</td>\n",
              "      <td>1</td>\n",
              "      <td>0</td>\n",
              "      <td>0</td>\n",
              "      <td>1</td>\n",
              "    </tr>\n",
              "    <tr>\n",
              "      <th>1</th>\n",
              "      <td>35</td>\n",
              "      <td>118</td>\n",
              "      <td>1</td>\n",
              "      <td>0</td>\n",
              "      <td>1</td>\n",
              "      <td>0</td>\n",
              "    </tr>\n",
              "    <tr>\n",
              "      <th>2</th>\n",
              "      <td>25</td>\n",
              "      <td>107</td>\n",
              "      <td>0</td>\n",
              "      <td>0</td>\n",
              "      <td>0</td>\n",
              "      <td>1</td>\n",
              "    </tr>\n",
              "    <tr>\n",
              "      <th>4</th>\n",
              "      <td>39</td>\n",
              "      <td>90</td>\n",
              "      <td>1</td>\n",
              "      <td>0</td>\n",
              "      <td>0</td>\n",
              "      <td>1</td>\n",
              "    </tr>\n",
              "    <tr>\n",
              "      <th>5</th>\n",
              "      <td>28</td>\n",
              "      <td>189</td>\n",
              "      <td>0</td>\n",
              "      <td>0</td>\n",
              "      <td>1</td>\n",
              "      <td>0</td>\n",
              "    </tr>\n",
              "    <tr>\n",
              "      <th>...</th>\n",
              "      <td>...</td>\n",
              "      <td>...</td>\n",
              "      <td>...</td>\n",
              "      <td>...</td>\n",
              "      <td>...</td>\n",
              "      <td>...</td>\n",
              "    </tr>\n",
              "    <tr>\n",
              "      <th>990</th>\n",
              "      <td>19</td>\n",
              "      <td>92</td>\n",
              "      <td>1</td>\n",
              "      <td>0</td>\n",
              "      <td>0</td>\n",
              "      <td>1</td>\n",
              "    </tr>\n",
              "    <tr>\n",
              "      <th>991</th>\n",
              "      <td>29</td>\n",
              "      <td>33</td>\n",
              "      <td>0</td>\n",
              "      <td>0</td>\n",
              "      <td>0</td>\n",
              "      <td>1</td>\n",
              "    </tr>\n",
              "    <tr>\n",
              "      <th>992</th>\n",
              "      <td>84</td>\n",
              "      <td>124</td>\n",
              "      <td>1</td>\n",
              "      <td>0</td>\n",
              "      <td>0</td>\n",
              "      <td>1</td>\n",
              "    </tr>\n",
              "    <tr>\n",
              "      <th>994</th>\n",
              "      <td>19</td>\n",
              "      <td>49</td>\n",
              "      <td>1</td>\n",
              "      <td>0</td>\n",
              "      <td>0</td>\n",
              "      <td>1</td>\n",
              "    </tr>\n",
              "    <tr>\n",
              "      <th>995</th>\n",
              "      <td>24</td>\n",
              "      <td>25</td>\n",
              "      <td>0</td>\n",
              "      <td>0</td>\n",
              "      <td>0</td>\n",
              "      <td>1</td>\n",
              "    </tr>\n",
              "  </tbody>\n",
              "</table>\n",
              "<p>900 rows × 6 columns</p>\n",
              "</div>"
            ],
            "text/plain": [
              "     Age  LastTransaction  ...  Payment Method_cheque  Payment Method_credit card\n",
              "0     64               98  ...                      0                           1\n",
              "1     35              118  ...                      1                           0\n",
              "2     25              107  ...                      0                           1\n",
              "4     39               90  ...                      0                           1\n",
              "5     28              189  ...                      1                           0\n",
              "..   ...              ...  ...                    ...                         ...\n",
              "990   19               92  ...                      0                           1\n",
              "991   29               33  ...                      0                           1\n",
              "992   84              124  ...                      0                           1\n",
              "994   19               49  ...                      0                           1\n",
              "995   24               25  ...                      0                           1\n",
              "\n",
              "[900 rows x 6 columns]"
            ]
          },
          "metadata": {
            "tags": []
          },
          "execution_count": 17
        }
      ]
    },
    {
      "cell_type": "code",
      "metadata": {
        "id": "7Dtvs-YZoN3Y",
        "colab_type": "code",
        "colab": {
          "base_uri": "https://localhost:8080/",
          "height": 218
        },
        "outputId": "84e83ed1-99df-4d3f-ac68-5d4ef2eef3ee"
      },
      "source": [
        "y"
      ],
      "execution_count": 18,
      "outputs": [
        {
          "output_type": "execute_result",
          "data": {
            "text/plain": [
              "0      loyal\n",
              "1      churn\n",
              "2      loyal\n",
              "4      loyal\n",
              "5      churn\n",
              "       ...  \n",
              "990    loyal\n",
              "991    loyal\n",
              "992    loyal\n",
              "994    loyal\n",
              "995    loyal\n",
              "Name: Churn, Length: 900, dtype: object"
            ]
          },
          "metadata": {
            "tags": []
          },
          "execution_count": 18
        }
      ]
    },
    {
      "cell_type": "markdown",
      "metadata": {
        "id": "GxpiMMJoozmw",
        "colab_type": "text"
      },
      "source": [
        "### 4.2) to split train and test datasets"
      ]
    },
    {
      "cell_type": "code",
      "metadata": {
        "id": "qUp-9KEEoPkD",
        "colab_type": "code",
        "colab": {}
      },
      "source": [
        "X_train, X_test, y_train, y_test = train_test_split(X, y, test_size=0.30, random_state=101)"
      ],
      "execution_count": 0,
      "outputs": []
    },
    {
      "cell_type": "markdown",
      "metadata": {
        "id": "_Wn3GYJLpQ_d",
        "colab_type": "text"
      },
      "source": [
        "### 4.3) to train and create a linear regression model"
      ]
    },
    {
      "cell_type": "code",
      "metadata": {
        "id": "i_o1zQWRpI_3",
        "colab_type": "code",
        "colab": {}
      },
      "source": [
        "clf = LogisticRegression()"
      ],
      "execution_count": 0,
      "outputs": []
    },
    {
      "cell_type": "code",
      "metadata": {
        "id": "kBKQoF-Upmrb",
        "colab_type": "code",
        "colab": {
          "base_uri": "https://localhost:8080/",
          "height": 101
        },
        "outputId": "27c14aa6-6f1e-447e-f215-c08ce52a512c"
      },
      "source": [
        "clf.fit(X_train,y_train)"
      ],
      "execution_count": 21,
      "outputs": [
        {
          "output_type": "execute_result",
          "data": {
            "text/plain": [
              "LogisticRegression(C=1.0, class_weight=None, dual=False, fit_intercept=True,\n",
              "                   intercept_scaling=1, l1_ratio=None, max_iter=100,\n",
              "                   multi_class='auto', n_jobs=None, penalty='l2',\n",
              "                   random_state=None, solver='lbfgs', tol=0.0001, verbose=0,\n",
              "                   warm_start=False)"
            ]
          },
          "metadata": {
            "tags": []
          },
          "execution_count": 21
        }
      ]
    },
    {
      "cell_type": "code",
      "metadata": {
        "id": "j-iLflRipqDF",
        "colab_type": "code",
        "colab": {
          "base_uri": "https://localhost:8080/",
          "height": 50
        },
        "outputId": "3488927e-b320-4994-edc4-150453477211"
      },
      "source": [
        "clf.coef_"
      ],
      "execution_count": 22,
      "outputs": [
        {
          "output_type": "execute_result",
          "data": {
            "text/plain": [
              "array([[-0.02332472, -0.00775513,  2.76546142, -0.24696719, -0.32714535,\n",
              "         0.57098283]])"
            ]
          },
          "metadata": {
            "tags": []
          },
          "execution_count": 22
        }
      ]
    },
    {
      "cell_type": "code",
      "metadata": {
        "id": "6lMk6ajZprfC",
        "colab_type": "code",
        "colab": {
          "base_uri": "https://localhost:8080/",
          "height": 34
        },
        "outputId": "6bd68e25-15a1-4170-8e2c-5a01a8897d2c"
      },
      "source": [
        "clf.intercept_"
      ],
      "execution_count": 23,
      "outputs": [
        {
          "output_type": "execute_result",
          "data": {
            "text/plain": [
              "array([1.08269557])"
            ]
          },
          "metadata": {
            "tags": []
          },
          "execution_count": 23
        }
      ]
    },
    {
      "cell_type": "markdown",
      "metadata": {
        "id": "AkRyeKpuqKAZ",
        "colab_type": "text"
      },
      "source": [
        "### 4.4) To predict from the test set"
      ]
    },
    {
      "cell_type": "code",
      "metadata": {
        "id": "pkaUsLvVql4j",
        "colab_type": "code",
        "colab": {}
      },
      "source": [
        "y_pred = clf.predict(X_test)"
      ],
      "execution_count": 0,
      "outputs": []
    },
    {
      "cell_type": "code",
      "metadata": {
        "id": "TxzHtBgorDSG",
        "colab_type": "code",
        "colab": {
          "base_uri": "https://localhost:8080/",
          "height": 672
        },
        "outputId": "ccf3fa78-56b5-4362-da69-6d9beb1b297f"
      },
      "source": [
        "y_pred"
      ],
      "execution_count": 25,
      "outputs": [
        {
          "output_type": "execute_result",
          "data": {
            "text/plain": [
              "array(['loyal', 'loyal', 'churn', 'loyal', 'churn', 'churn', 'churn',\n",
              "       'loyal', 'loyal', 'loyal', 'loyal', 'loyal', 'loyal', 'churn',\n",
              "       'churn', 'loyal', 'loyal', 'churn', 'loyal', 'churn', 'loyal',\n",
              "       'loyal', 'loyal', 'churn', 'churn', 'loyal', 'churn', 'churn',\n",
              "       'loyal', 'loyal', 'churn', 'churn', 'churn', 'churn', 'loyal',\n",
              "       'churn', 'churn', 'loyal', 'churn', 'loyal', 'churn', 'loyal',\n",
              "       'loyal', 'churn', 'loyal', 'loyal', 'churn', 'loyal', 'loyal',\n",
              "       'churn', 'loyal', 'loyal', 'churn', 'churn', 'loyal', 'loyal',\n",
              "       'churn', 'loyal', 'loyal', 'loyal', 'churn', 'churn', 'churn',\n",
              "       'loyal', 'loyal', 'churn', 'loyal', 'churn', 'churn', 'loyal',\n",
              "       'loyal', 'loyal', 'loyal', 'churn', 'churn', 'loyal', 'loyal',\n",
              "       'loyal', 'churn', 'loyal', 'loyal', 'loyal', 'loyal', 'loyal',\n",
              "       'loyal', 'loyal', 'loyal', 'churn', 'churn', 'loyal', 'loyal',\n",
              "       'churn', 'loyal', 'loyal', 'loyal', 'loyal', 'loyal', 'loyal',\n",
              "       'loyal', 'churn', 'churn', 'loyal', 'loyal', 'loyal', 'loyal',\n",
              "       'loyal', 'loyal', 'loyal', 'loyal', 'churn', 'loyal', 'loyal',\n",
              "       'loyal', 'churn', 'loyal', 'loyal', 'loyal', 'loyal', 'loyal',\n",
              "       'loyal', 'loyal', 'loyal', 'loyal', 'churn', 'churn', 'loyal',\n",
              "       'loyal', 'loyal', 'loyal', 'churn', 'loyal', 'loyal', 'loyal',\n",
              "       'loyal', 'loyal', 'loyal', 'loyal', 'loyal', 'loyal', 'churn',\n",
              "       'loyal', 'churn', 'loyal', 'loyal', 'loyal', 'churn', 'churn',\n",
              "       'churn', 'churn', 'churn', 'loyal', 'loyal', 'loyal', 'churn',\n",
              "       'loyal', 'loyal', 'loyal', 'loyal', 'loyal', 'loyal', 'loyal',\n",
              "       'churn', 'churn', 'churn', 'loyal', 'loyal', 'loyal', 'loyal',\n",
              "       'loyal', 'loyal', 'churn', 'churn', 'churn', 'churn', 'churn',\n",
              "       'loyal', 'churn', 'loyal', 'loyal', 'churn', 'loyal', 'loyal',\n",
              "       'churn', 'loyal', 'loyal', 'loyal', 'loyal', 'loyal', 'loyal',\n",
              "       'loyal', 'churn', 'loyal', 'loyal', 'loyal', 'churn', 'loyal',\n",
              "       'churn', 'churn', 'loyal', 'loyal', 'loyal', 'loyal', 'loyal',\n",
              "       'loyal', 'loyal', 'churn', 'churn', 'churn', 'churn', 'churn',\n",
              "       'loyal', 'loyal', 'loyal', 'loyal', 'loyal', 'loyal', 'churn',\n",
              "       'loyal', 'loyal', 'churn', 'loyal', 'loyal', 'loyal', 'loyal',\n",
              "       'loyal', 'churn', 'loyal', 'churn', 'loyal', 'loyal', 'loyal',\n",
              "       'loyal', 'churn', 'churn', 'loyal', 'churn', 'loyal', 'loyal',\n",
              "       'loyal', 'loyal', 'loyal', 'loyal', 'loyal', 'churn', 'churn',\n",
              "       'churn', 'loyal', 'loyal', 'loyal', 'churn', 'loyal', 'loyal',\n",
              "       'churn', 'churn', 'loyal', 'loyal', 'loyal', 'churn', 'loyal',\n",
              "       'churn', 'loyal', 'churn', 'loyal', 'loyal', 'churn', 'loyal',\n",
              "       'churn', 'churn', 'churn', 'loyal'], dtype=object)"
            ]
          },
          "metadata": {
            "tags": []
          },
          "execution_count": 25
        }
      ]
    },
    {
      "cell_type": "markdown",
      "metadata": {
        "id": "hL-zDiZPAxc3",
        "colab_type": "text"
      },
      "source": [
        "### 4.5) To evaluate the predicted value with the test set"
      ]
    },
    {
      "cell_type": "code",
      "metadata": {
        "id": "86QqBNqgK6x_",
        "colab_type": "code",
        "colab": {
          "base_uri": "https://localhost:8080/",
          "height": 67
        },
        "outputId": "82b12ccb-d1e2-44f8-c637-041d9d2e9c54"
      },
      "source": [
        "cm_labels = churn[\"Churn\"].unique()\n",
        "print(cm_labels)\n",
        "confusion_matrix(y_test, y_pred, labels=cm_labels)"
      ],
      "execution_count": 26,
      "outputs": [
        {
          "output_type": "stream",
          "text": [
            "['loyal' 'churn']\n"
          ],
          "name": "stdout"
        },
        {
          "output_type": "execute_result",
          "data": {
            "text/plain": [
              "array([[154,  17],\n",
              "       [ 23,  76]])"
            ]
          },
          "metadata": {
            "tags": []
          },
          "execution_count": 26
        }
      ]
    },
    {
      "cell_type": "code",
      "metadata": {
        "id": "WSP3MqHNA5za",
        "colab_type": "code",
        "colab": {
          "base_uri": "https://localhost:8080/",
          "height": 168
        },
        "outputId": "f555b618-ccc7-4d04-89e5-c5b0bac15b61"
      },
      "source": [
        "print(classification_report(y_test,y_pred))"
      ],
      "execution_count": 27,
      "outputs": [
        {
          "output_type": "stream",
          "text": [
            "              precision    recall  f1-score   support\n",
            "\n",
            "       churn       0.82      0.77      0.79        99\n",
            "       loyal       0.87      0.90      0.89       171\n",
            "\n",
            "    accuracy                           0.85       270\n",
            "   macro avg       0.84      0.83      0.84       270\n",
            "weighted avg       0.85      0.85      0.85       270\n",
            "\n"
          ],
          "name": "stdout"
        }
      ]
    },
    {
      "cell_type": "code",
      "metadata": {
        "id": "fItrpQ-oKXcD",
        "colab_type": "code",
        "colab": {
          "base_uri": "https://localhost:8080/",
          "height": 34
        },
        "outputId": "f04a2e44-d5b9-4458-e155-a0f713bc666a"
      },
      "source": [
        "f1 = f1_score(y_test, y_pred, average='weighted')\n",
        "print (\"F1 =\", f1)"
      ],
      "execution_count": 28,
      "outputs": [
        {
          "output_type": "stream",
          "text": [
            "F1 = 0.8508141762452107\n"
          ],
          "name": "stdout"
        }
      ]
    },
    {
      "cell_type": "markdown",
      "metadata": {
        "id": "J0GKDCwWuQgb",
        "colab_type": "text"
      },
      "source": [
        "\n",
        "\n",
        "---\n",
        "\n"
      ]
    },
    {
      "cell_type": "markdown",
      "metadata": {
        "id": "jtBJVqRdE7C_",
        "colab_type": "text"
      },
      "source": [
        "## 5) To do **Decision Tree**"
      ]
    },
    {
      "cell_type": "code",
      "metadata": {
        "id": "9BQGNJVpFPT3",
        "colab_type": "code",
        "colab": {
          "base_uri": "https://localhost:8080/",
          "height": 319
        },
        "outputId": "354188b5-b38b-4186-d902-8d400715ca3d"
      },
      "source": [
        "# Import required libraries\n",
        "from sklearn import tree\n",
        "\n",
        "# Select Data\n",
        "X = churn[[\"Age\", \"LastTransaction\", \"Gender Code\", \"Payment Method_cash\", \"Payment Method_cheque\", \"Payment Method_credit card\"]]\n",
        "y = churn[\"Churn\"]\n",
        "\n",
        "# Split Data\n",
        "X_train, X_test, y_train, y_test = train_test_split(X, y, test_size=0.30, random_state=101)\n",
        "\n",
        "# Train and Create a Model\n",
        "clf = tree.DecisionTreeClassifier()\n",
        "clf.fit(X, y)\n",
        "\n",
        "# Predict\n",
        "y_pred = clf.predict(X_test)\n",
        "\n",
        "# Print Confusion Matrix\n",
        "print(\"***** Confusion Matrix *****\")\n",
        "cm_labels = churn[\"Churn\"].unique()\n",
        "print(cm_labels)\n",
        "print(confusion_matrix(y_test, y_pred, labels=cm_labels))\n",
        "\n",
        "# Print Report\n",
        "print()\n",
        "print(\"***** Report *****\")\n",
        "print(classification_report(y_test,y_pred))\n",
        "\n",
        "# Check F1 value\n",
        "print()\n",
        "print(\"***** F1 *****\")\n",
        "f1 = f1_score(y_test, y_pred, average='weighted')\n",
        "print (\"F1 = \", f1)"
      ],
      "execution_count": 29,
      "outputs": [
        {
          "output_type": "stream",
          "text": [
            "***** Confusion Matrix *****\n",
            "['loyal' 'churn']\n",
            "[[171   0]\n",
            " [  0  99]]\n",
            "\n",
            "***** Report *****\n",
            "              precision    recall  f1-score   support\n",
            "\n",
            "       churn       1.00      1.00      1.00        99\n",
            "       loyal       1.00      1.00      1.00       171\n",
            "\n",
            "    accuracy                           1.00       270\n",
            "   macro avg       1.00      1.00      1.00       270\n",
            "weighted avg       1.00      1.00      1.00       270\n",
            "\n",
            "\n",
            "***** F1 *****\n",
            "F1 =  1.0\n"
          ],
          "name": "stdout"
        }
      ]
    },
    {
      "cell_type": "markdown",
      "metadata": {
        "id": "MlxBcRVTuSTM",
        "colab_type": "text"
      },
      "source": [
        "## Exercises\n",
        "\n",
        "\n",
        "1.   work with 5-fold cross-validation  (hint: https://scikit-learn.org/stable/modules/generated/sklearn.model_selection.KFold.html)\n",
        "2.   use other classifier techiques e.g. Bayes, SVN, ANN,\n"
      ]
    },
    {
      "cell_type": "markdown",
      "metadata": {
        "id": "7il_CFPbu3xz",
        "colab_type": "text"
      },
      "source": [
        "### do your exerciese here"
      ]
    },
    {
      "cell_type": "code",
      "metadata": {
        "id": "-iPR4nFdvCV3",
        "colab_type": "code",
        "colab": {}
      },
      "source": [
        "# run your code here"
      ],
      "execution_count": 0,
      "outputs": []
    }
  ]
}