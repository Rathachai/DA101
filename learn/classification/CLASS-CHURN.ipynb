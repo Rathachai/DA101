{
  "nbformat": 4,
  "nbformat_minor": 0,
  "metadata": {
    "colab": {
      "name": "CLASS-CHURN.ipynb",
      "provenance": [],
      "collapsed_sections": []
    },
    "kernelspec": {
      "name": "python3",
      "display_name": "Python 3"
    }
  },
  "cells": [
    {
      "cell_type": "markdown",
      "metadata": {
        "id": "i7_MKoJ0kkOA",
        "colab_type": "text"
      },
      "source": [
        "# Classification on Customer Churn Dataset for the Data Analytics Session\n",
        "by Rathachai C.\n"
      ]
    },
    {
      "cell_type": "markdown",
      "metadata": {
        "id": "fZ2Iv1X_kvtk",
        "colab_type": "text"
      },
      "source": [
        "## 0) To load libraries"
      ]
    },
    {
      "cell_type": "code",
      "metadata": {
        "id": "zAvT2DxEj5OF",
        "colab_type": "code",
        "colab": {}
      },
      "source": [
        "import pandas as pd\n",
        "import numpy as np\n",
        "import matplotlib.pyplot as plt\n",
        "import seaborn as sns\n",
        "%matplotlib inline\n",
        "\n",
        "from sklearn.model_selection import train_test_split\n",
        "from sklearn.linear_model import LogisticRegression\n",
        "from sklearn.preprocessing import LabelEncoder\n",
        "\n",
        "from sklearn.metrics import confusion_matrix\n",
        "from sklearn.metrics import classification_report\n",
        "from sklearn.metrics import f1_score"
      ],
      "execution_count": 0,
      "outputs": []
    },
    {
      "cell_type": "markdown",
      "metadata": {
        "id": "cHqjvjs4t7i1",
        "colab_type": "text"
      },
      "source": [
        "\n",
        "\n",
        "---\n",
        "\n"
      ]
    },
    {
      "cell_type": "markdown",
      "metadata": {
        "id": "-ev_5HJ8k1JD",
        "colab_type": "text"
      },
      "source": [
        "## 1) To load data and check"
      ]
    },
    {
      "cell_type": "code",
      "metadata": {
        "id": "iyKRl8AFkDX-",
        "colab_type": "code",
        "colab": {}
      },
      "source": [
        "churn = pd.read_csv('https://rathachai.github.io/DA101/data/customer-churn-data.csv')"
      ],
      "execution_count": 0,
      "outputs": []
    },
    {
      "cell_type": "code",
      "metadata": {
        "id": "a7gbpBr0kTfg",
        "colab_type": "code",
        "colab": {}
      },
      "source": [
        "churn"
      ],
      "execution_count": 0,
      "outputs": []
    },
    {
      "cell_type": "code",
      "metadata": {
        "id": "SWylIoRukUp4",
        "colab_type": "code",
        "colab": {}
      },
      "source": [
        "churn.info()"
      ],
      "execution_count": 0,
      "outputs": []
    },
    {
      "cell_type": "code",
      "metadata": {
        "id": "IBJ0E-0XkZK6",
        "colab_type": "code",
        "colab": {}
      },
      "source": [
        "churn.describe()"
      ],
      "execution_count": 0,
      "outputs": []
    },
    {
      "cell_type": "markdown",
      "metadata": {
        "id": "IjiSxANZt-Hx",
        "colab_type": "text"
      },
      "source": [
        "\n",
        "\n",
        "---\n",
        "\n"
      ]
    },
    {
      "cell_type": "markdown",
      "metadata": {
        "id": "Y7LMhWrF57TW",
        "colab_type": "text"
      },
      "source": [
        "## 2) To do data pre-processing"
      ]
    },
    {
      "cell_type": "code",
      "metadata": {
        "id": "BHPdQs0e6BxN",
        "colab_type": "code",
        "colab": {}
      },
      "source": [
        "churn.dropna(inplace=True)"
      ],
      "execution_count": 0,
      "outputs": []
    },
    {
      "cell_type": "code",
      "metadata": {
        "id": "ImhDTZVj6G9T",
        "colab_type": "code",
        "colab": {}
      },
      "source": [
        "churn.info()"
      ],
      "execution_count": 0,
      "outputs": []
    },
    {
      "cell_type": "markdown",
      "metadata": {
        "id": "rOlQf3Ppk-DU",
        "colab_type": "text"
      },
      "source": [
        "## 3) To do data exploration"
      ]
    },
    {
      "cell_type": "markdown",
      "metadata": {
        "id": "6JviH0QNCLB3",
        "colab_type": "text"
      },
      "source": [
        "### 3.1) to view data"
      ]
    },
    {
      "cell_type": "code",
      "metadata": {
        "id": "YGiA3CHJ-bCM",
        "colab_type": "code",
        "colab": {}
      },
      "source": [
        "sns.countplot(x=\"Churn\", data=churn);\n"
      ],
      "execution_count": 0,
      "outputs": []
    },
    {
      "cell_type": "code",
      "metadata": {
        "id": "BTA4esfLkdsx",
        "colab_type": "code",
        "colab": {}
      },
      "source": [
        "sns.pairplot(churn, hue=\"Churn\")"
      ],
      "execution_count": 0,
      "outputs": []
    },
    {
      "cell_type": "code",
      "metadata": {
        "id": "X91zfmhxmaSc",
        "colab_type": "code",
        "colab": {}
      },
      "source": [
        "sns.countplot(x=\"Gender\", hue=\"Churn\", data=churn);\n"
      ],
      "execution_count": 0,
      "outputs": []
    },
    {
      "cell_type": "code",
      "metadata": {
        "id": "b8djk9VTlHMN",
        "colab_type": "code",
        "colab": {}
      },
      "source": [
        "sns.countplot(x=\"Payment Method\", hue=\"Churn\", data=churn);"
      ],
      "execution_count": 0,
      "outputs": []
    },
    {
      "cell_type": "markdown",
      "metadata": {
        "id": "ZC7m9TTnCF54",
        "colab_type": "text"
      },
      "source": [
        "### 3.2) to do data encoder"
      ]
    },
    {
      "cell_type": "code",
      "metadata": {
        "id": "2z9hLF_SB93p",
        "colab_type": "code",
        "colab": {}
      },
      "source": [
        "lb_make = LabelEncoder()"
      ],
      "execution_count": 0,
      "outputs": []
    },
    {
      "cell_type": "code",
      "metadata": {
        "id": "W6dqxKQwCQu0",
        "colab_type": "code",
        "colab": {}
      },
      "source": [
        "churn[\"Gender Code\"] = lb_make.fit_transform(churn[\"Gender\"])"
      ],
      "execution_count": 0,
      "outputs": []
    },
    {
      "cell_type": "markdown",
      "metadata": {
        "id": "2vQVeDZqCnw1",
        "colab_type": "text"
      },
      "source": [
        "### 3.3) to do one-hot encoding"
      ]
    },
    {
      "cell_type": "code",
      "metadata": {
        "id": "dcdaxbBRChfp",
        "colab_type": "code",
        "colab": {}
      },
      "source": [
        "churn = pd.get_dummies(churn, columns=[\"Payment Method\"])"
      ],
      "execution_count": 0,
      "outputs": []
    },
    {
      "cell_type": "code",
      "metadata": {
        "id": "IIKeEyuMDgmz",
        "colab_type": "code",
        "colab": {}
      },
      "source": [
        "churn"
      ],
      "execution_count": 0,
      "outputs": []
    },
    {
      "cell_type": "markdown",
      "metadata": {
        "id": "iDOP54vouBa0",
        "colab_type": "text"
      },
      "source": [
        "\n",
        "\n",
        "---\n",
        "\n"
      ]
    },
    {
      "cell_type": "markdown",
      "metadata": {
        "id": "qTGhyuFmsaSj",
        "colab_type": "text"
      },
      "source": [
        "## 4) To do **`Logistic Regression`**"
      ]
    },
    {
      "cell_type": "markdown",
      "metadata": {
        "id": "q9IIe8Ko_QMY",
        "colab_type": "text"
      },
      "source": [
        "### 4.1) To select data"
      ]
    },
    {
      "cell_type": "code",
      "metadata": {
        "id": "W7arbsYVnwwc",
        "colab_type": "code",
        "colab": {}
      },
      "source": [
        "X = churn[[\"Age\", \"LastTransaction\", \"Gender Code\", \"Payment Method_cash\", \"Payment Method_cheque\", \"Payment Method_credit card\"]]\n",
        "y = churn[\"Churn\"]"
      ],
      "execution_count": 0,
      "outputs": []
    },
    {
      "cell_type": "code",
      "metadata": {
        "id": "htpl01JYoHoT",
        "colab_type": "code",
        "colab": {}
      },
      "source": [
        "X"
      ],
      "execution_count": 0,
      "outputs": []
    },
    {
      "cell_type": "code",
      "metadata": {
        "id": "7Dtvs-YZoN3Y",
        "colab_type": "code",
        "colab": {}
      },
      "source": [
        "y"
      ],
      "execution_count": 0,
      "outputs": []
    },
    {
      "cell_type": "markdown",
      "metadata": {
        "id": "GxpiMMJoozmw",
        "colab_type": "text"
      },
      "source": [
        "### 4.2) to split train and test datasets"
      ]
    },
    {
      "cell_type": "code",
      "metadata": {
        "id": "qUp-9KEEoPkD",
        "colab_type": "code",
        "colab": {}
      },
      "source": [
        "X_train, X_test, y_train, y_test = train_test_split(X, y, test_size=0.30, random_state=101)"
      ],
      "execution_count": 0,
      "outputs": []
    },
    {
      "cell_type": "markdown",
      "metadata": {
        "id": "_Wn3GYJLpQ_d",
        "colab_type": "text"
      },
      "source": [
        "### 4.3) to train and create a linear regression model"
      ]
    },
    {
      "cell_type": "code",
      "metadata": {
        "id": "i_o1zQWRpI_3",
        "colab_type": "code",
        "colab": {}
      },
      "source": [
        "clf = LogisticRegression()"
      ],
      "execution_count": 0,
      "outputs": []
    },
    {
      "cell_type": "code",
      "metadata": {
        "id": "kBKQoF-Upmrb",
        "colab_type": "code",
        "colab": {}
      },
      "source": [
        "clf.fit(X_train,y_train)"
      ],
      "execution_count": 0,
      "outputs": []
    },
    {
      "cell_type": "code",
      "metadata": {
        "id": "j-iLflRipqDF",
        "colab_type": "code",
        "colab": {}
      },
      "source": [
        "clf.coef_"
      ],
      "execution_count": 0,
      "outputs": []
    },
    {
      "cell_type": "code",
      "metadata": {
        "id": "6lMk6ajZprfC",
        "colab_type": "code",
        "colab": {}
      },
      "source": [
        "clf.intercept_"
      ],
      "execution_count": 0,
      "outputs": []
    },
    {
      "cell_type": "markdown",
      "metadata": {
        "id": "AkRyeKpuqKAZ",
        "colab_type": "text"
      },
      "source": [
        "### 4.4) To predict from the test set"
      ]
    },
    {
      "cell_type": "code",
      "metadata": {
        "id": "pkaUsLvVql4j",
        "colab_type": "code",
        "colab": {}
      },
      "source": [
        "y_pred = clf.predict(X_test)"
      ],
      "execution_count": 0,
      "outputs": []
    },
    {
      "cell_type": "code",
      "metadata": {
        "id": "TxzHtBgorDSG",
        "colab_type": "code",
        "colab": {}
      },
      "source": [
        "y_pred"
      ],
      "execution_count": 0,
      "outputs": []
    },
    {
      "cell_type": "markdown",
      "metadata": {
        "id": "hL-zDiZPAxc3",
        "colab_type": "text"
      },
      "source": [
        "### 4.5) To evaluate the predicted value with the test set"
      ]
    },
    {
      "cell_type": "code",
      "metadata": {
        "id": "86QqBNqgK6x_",
        "colab_type": "code",
        "colab": {}
      },
      "source": [
        "cm_labels = churn[\"Churn\"].unique()\n",
        "print(cm_labels)\n",
        "confusion_matrix(y_test, y_pred, labels=cm_labels)"
      ],
      "execution_count": 0,
      "outputs": []
    },
    {
      "cell_type": "code",
      "metadata": {
        "id": "WSP3MqHNA5za",
        "colab_type": "code",
        "colab": {}
      },
      "source": [
        "print(classification_report(y_test,y_pred))"
      ],
      "execution_count": 0,
      "outputs": []
    },
    {
      "cell_type": "code",
      "metadata": {
        "id": "fItrpQ-oKXcD",
        "colab_type": "code",
        "colab": {}
      },
      "source": [
        "f1 = f1_score(y_test, y_pred, average='weighted')\n",
        "print (\"F1 =\", f1)"
      ],
      "execution_count": 0,
      "outputs": []
    },
    {
      "cell_type": "markdown",
      "metadata": {
        "id": "J0GKDCwWuQgb",
        "colab_type": "text"
      },
      "source": [
        "\n",
        "\n",
        "---\n",
        "\n"
      ]
    },
    {
      "cell_type": "markdown",
      "metadata": {
        "id": "jtBJVqRdE7C_",
        "colab_type": "text"
      },
      "source": [
        "## 5) To do **Decision Tree**"
      ]
    },
    {
      "cell_type": "code",
      "metadata": {
        "id": "9BQGNJVpFPT3",
        "colab_type": "code",
        "colab": {}
      },
      "source": [
        "# Import required libraries\n",
        "from sklearn import tree\n",
        "\n",
        "# Select Data\n",
        "X = churn[[\"Age\", \"LastTransaction\", \"Gender Code\", \"Payment Method_cash\", \"Payment Method_cheque\", \"Payment Method_credit card\"]]\n",
        "y = churn[\"Churn\"]\n",
        "\n",
        "# Split Data\n",
        "X_train, X_test, y_train, y_test = train_test_split(X, y, test_size=0.30, random_state=101)\n",
        "\n",
        "# Train and Create a Model\n",
        "clf = tree.DecisionTreeClassifier()\n",
        "clf.fit(X, y)\n",
        "\n",
        "# Predict\n",
        "y_pred = clf.predict(X_test)\n",
        "\n",
        "# Print Confusion Matrix\n",
        "print(\"***** Confusion Matrix *****\")\n",
        "cm_labels = churn[\"Churn\"].unique()\n",
        "print(cm_labels)\n",
        "print(confusion_matrix(y_test, y_pred, labels=cm_labels))\n",
        "\n",
        "# Print Report\n",
        "print()\n",
        "print(\"***** Report *****\")\n",
        "print(classification_report(y_test,y_pred))\n",
        "\n",
        "# Check F1 value\n",
        "print()\n",
        "print(\"***** F1 *****\")\n",
        "f1 = f1_score(y_test, y_pred, average='weighted')\n",
        "print (\"F1 = \", f1)"
      ],
      "execution_count": 0,
      "outputs": []
    },
    {
      "cell_type": "markdown",
      "metadata": {
        "id": "MlxBcRVTuSTM",
        "colab_type": "text"
      },
      "source": [
        "## Exercises\n",
        "\n",
        "\n",
        "1.   work with 5-fold cross-validation  (hint: https://scikit-learn.org/stable/modules/generated/sklearn.model_selection.KFold.html)\n",
        "2.   use other classifier techiques e.g. Bayes, SVN, ANN,\n"
      ]
    },
    {
      "cell_type": "markdown",
      "metadata": {
        "id": "7il_CFPbu3xz",
        "colab_type": "text"
      },
      "source": [
        "### do your exerciese here"
      ]
    },
    {
      "cell_type": "code",
      "metadata": {
        "id": "-iPR4nFdvCV3",
        "colab_type": "code",
        "colab": {}
      },
      "source": [
        "# run your code here"
      ],
      "execution_count": 0,
      "outputs": []
    }
  ]
}