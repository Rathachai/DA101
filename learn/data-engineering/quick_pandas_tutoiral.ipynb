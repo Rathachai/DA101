{
  "nbformat": 4,
  "nbformat_minor": 0,
  "metadata": {
    "colab": {
      "name": "quick-pandas-tutoiral.ipynb",
      "provenance": [],
      "toc_visible": true,
      "authorship_tag": "ABX9TyN1/XWUMOCw8FDLWADVDeYW"
    },
    "kernelspec": {
      "name": "python3",
      "display_name": "Python 3"
    }
  },
  "cells": [
    {
      "cell_type": "markdown",
      "metadata": {
        "id": "sfU8OJ7viyaQ",
        "colab_type": "text"
      },
      "source": [
        "# **A Quick Pandas Tutorial**\n",
        "> ## *Author* : [Rathachai CHAWUTHAI](https://rathachai.creatier.pro/) , Ph.D\n",
        "> ### *Affiliation* : Computer Engineering, King Mongkut's Institute of Technology Ladkrabang (KMITL)\n",
        "> #### *Updated Date* : 2020-08-18\n",
        "---"
      ]
    },
    {
      "cell_type": "markdown",
      "metadata": {
        "id": "rmwpgdQwkENy",
        "colab_type": "text"
      },
      "source": [
        "> <a rel=\"license\" href=\"http://creativecommons.org/licenses/by-nc-sa/4.0/\"><img alt=\"Creative Commons License\" style=\"border-width:0\" src=\"https://i.creativecommons.org/l/by-nc-sa/4.0/88x31.png\" /></a><br />This work is licensed under a <a rel=\"license\" href=\"http://creativecommons.org/licenses/by-nc-sa/4.0/\">Creative Commons Attribution-NonCommercial-ShareAlike 4.0 International License</a>.\n",
        "\n",
        "\n",
        "\n",
        "---"
      ]
    },
    {
      "cell_type": "markdown",
      "metadata": {
        "id": "-RYNm8yJwFkZ",
        "colab_type": "text"
      },
      "source": [
        "## Prerequisite Knowledge\n",
        "> Python, List, Dictionary, Tuple, Function, Lambda, Numpy, and CSV\n"
      ]
    },
    {
      "cell_type": "markdown",
      "metadata": {
        "id": "3P9M9OaBkVpT",
        "colab_type": "text"
      },
      "source": [
        "## About a Dataset"
      ]
    },
    {
      "cell_type": "markdown",
      "metadata": {
        "id": "uyzk0mDnkjwp",
        "colab_type": "text"
      },
      "source": [
        "Click [https://docs.google.com/spreadsheets/d/e/2PACX-1vRIFbIywXecgxN5c1sMn_KYWsARoXgp4paFxu4qndPaX_47vRaOdrqmiHjtNZ9ZYQcv3ubMSv8DA9ta/pub?gid=1546938151&single=true](https://docs.google.com/spreadsheets/d/e/2PACX-1vRIFbIywXecgxN5c1sMn_KYWsARoXgp4paFxu4qndPaX_47vRaOdrqmiHjtNZ9ZYQcv3ubMSv8DA9ta/pub?gid=1546938151&single=true)"
      ]
    },
    {
      "cell_type": "markdown",
      "metadata": {
        "id": "vxHIiBjlAWb0",
        "colab_type": "text"
      },
      "source": [
        "## Import Libraries"
      ]
    },
    {
      "cell_type": "code",
      "metadata": {
        "id": "B0sUqttDcYq5",
        "colab_type": "code",
        "colab": {}
      },
      "source": [
        "import numpy as np\n",
        "import pandas as pd"
      ],
      "execution_count": null,
      "outputs": []
    },
    {
      "cell_type": "markdown",
      "metadata": {
        "id": "QXpVCNz8Afdc",
        "colab_type": "text"
      },
      "source": [
        "## Read CSV into a Dataframe"
      ]
    },
    {
      "cell_type": "code",
      "metadata": {
        "id": "IAUcJ9bY-nav",
        "colab_type": "code",
        "colab": {}
      },
      "source": [
        "CSV_PATH = \"https://docs.google.com/spreadsheets/d/e/2PACX-1vRIFbIywXecgxN5c1sMn_KYWsARoXgp4paFxu4qndPaX_47vRaOdrqmiHjtNZ9ZYQcv3ubMSv8DA9ta/pub?gid=1546938151&single=true&output=csv\""
      ],
      "execution_count": null,
      "outputs": []
    },
    {
      "cell_type": "code",
      "metadata": {
        "id": "Q5vVZ70HciVf",
        "colab_type": "code",
        "colab": {}
      },
      "source": [
        "df = pd.read_csv(CSV_PATH)"
      ],
      "execution_count": null,
      "outputs": []
    },
    {
      "cell_type": "code",
      "metadata": {
        "id": "LMQ8IgvDcm-G",
        "colab_type": "code",
        "colab": {}
      },
      "source": [
        "df"
      ],
      "execution_count": null,
      "outputs": []
    },
    {
      "cell_type": "code",
      "metadata": {
        "id": "jZji3VIsBWQ1",
        "colab_type": "code",
        "colab": {}
      },
      "source": [
        "df.head()"
      ],
      "execution_count": null,
      "outputs": []
    },
    {
      "cell_type": "code",
      "metadata": {
        "id": "HNqW536rBZsK",
        "colab_type": "code",
        "colab": {}
      },
      "source": [
        "df.tail()"
      ],
      "execution_count": null,
      "outputs": []
    },
    {
      "cell_type": "markdown",
      "metadata": {
        "id": "rgvNsguEAU5z",
        "colab_type": "text"
      },
      "source": [
        "## Column Selection"
      ]
    },
    {
      "cell_type": "code",
      "metadata": {
        "id": "9XykVausysp3",
        "colab_type": "code",
        "colab": {}
      },
      "source": [
        "df[\"name\"]"
      ],
      "execution_count": null,
      "outputs": []
    },
    {
      "cell_type": "code",
      "metadata": {
        "id": "MnQKJmOOA2rV",
        "colab_type": "code",
        "colab": {}
      },
      "source": [
        "df[[\"name\", \"gender\", \"age\"]]"
      ],
      "execution_count": null,
      "outputs": []
    },
    {
      "cell_type": "markdown",
      "metadata": {
        "id": "a45CRpfnBf0N",
        "colab_type": "text"
      },
      "source": [
        "## Row Selection"
      ]
    },
    {
      "cell_type": "code",
      "metadata": {
        "id": "CgHcSS_tBi9T",
        "colab_type": "code",
        "colab": {}
      },
      "source": [
        "df.loc[1]"
      ],
      "execution_count": null,
      "outputs": []
    },
    {
      "cell_type": "code",
      "metadata": {
        "id": "DWn5QKxXC0Um",
        "colab_type": "code",
        "colab": {}
      },
      "source": [
        "df.loc[[1,2,3]]"
      ],
      "execution_count": null,
      "outputs": []
    },
    {
      "cell_type": "markdown",
      "metadata": {
        "id": "dF9ylGsUDdFh",
        "colab_type": "text"
      },
      "source": [
        "## Row and Column Selection (1)"
      ]
    },
    {
      "cell_type": "code",
      "metadata": {
        "id": "RoDvAZmYC4Tw",
        "colab_type": "code",
        "colab": {}
      },
      "source": [
        "df.loc[1,[\"name\",\"age\"]]"
      ],
      "execution_count": null,
      "outputs": []
    },
    {
      "cell_type": "code",
      "metadata": {
        "id": "j3DjX-6cC8-y",
        "colab_type": "code",
        "colab": {}
      },
      "source": [
        "df.loc[[1,2,3], [\"name\",\"age\"]]"
      ],
      "execution_count": null,
      "outputs": []
    },
    {
      "cell_type": "markdown",
      "metadata": {
        "id": "rNU9DvGtF4YQ",
        "colab_type": "text"
      },
      "source": [
        "## Value Modification"
      ]
    },
    {
      "cell_type": "code",
      "metadata": {
        "id": "N1N-SNZWF390",
        "colab_type": "code",
        "colab": {}
      },
      "source": [
        "df[[\"name\",\"working_years\"]]"
      ],
      "execution_count": null,
      "outputs": []
    },
    {
      "cell_type": "code",
      "metadata": {
        "id": "PDoCOoDXGO2n",
        "colab_type": "code",
        "colab": {}
      },
      "source": [
        "df.loc[0,\"working_years\"] = 77"
      ],
      "execution_count": null,
      "outputs": []
    },
    {
      "cell_type": "code",
      "metadata": {
        "id": "zfdiPPyIGWg9",
        "colab_type": "code",
        "colab": {}
      },
      "source": [
        "df[[\"name\",\"working_years\"]]"
      ],
      "execution_count": null,
      "outputs": []
    },
    {
      "cell_type": "code",
      "metadata": {
        "id": "lp67m8veHYhg",
        "colab_type": "code",
        "colab": {}
      },
      "source": [
        "df.loc[[1,2],\"working_years\"] = 9999"
      ],
      "execution_count": null,
      "outputs": []
    },
    {
      "cell_type": "code",
      "metadata": {
        "id": "HJH6Xtx8HhqM",
        "colab_type": "code",
        "colab": {}
      },
      "source": [
        "df[[\"name\",\"working_years\"]]"
      ],
      "execution_count": null,
      "outputs": []
    },
    {
      "cell_type": "code",
      "metadata": {
        "id": "AjC96DKTHpoD",
        "colab_type": "code",
        "colab": {}
      },
      "source": [
        "df.loc[[1,2],[\"name\",\"working_years\"]] = \"MODIFIED\""
      ],
      "execution_count": null,
      "outputs": []
    },
    {
      "cell_type": "code",
      "metadata": {
        "id": "E7xPq2XsHvYb",
        "colab_type": "code",
        "colab": {}
      },
      "source": [
        "df[[\"name\",\"working_years\"]]"
      ],
      "execution_count": null,
      "outputs": []
    },
    {
      "cell_type": "markdown",
      "metadata": {
        "id": "1IPySXobIVok",
        "colab_type": "text"
      },
      "source": [
        "## Reload the Dataframe"
      ]
    },
    {
      "cell_type": "code",
      "metadata": {
        "id": "7JnVshZQIbTI",
        "colab_type": "code",
        "colab": {}
      },
      "source": [
        "df = pd.read_csv(CSV_PATH)"
      ],
      "execution_count": null,
      "outputs": []
    },
    {
      "cell_type": "code",
      "metadata": {
        "id": "qglu8Qd1IjVs",
        "colab_type": "code",
        "colab": {}
      },
      "source": [
        "df"
      ],
      "execution_count": null,
      "outputs": []
    },
    {
      "cell_type": "markdown",
      "metadata": {
        "id": "Q06Hc3eoJ_Jr",
        "colab_type": "text"
      },
      "source": [
        "## Set Index"
      ]
    },
    {
      "cell_type": "code",
      "metadata": {
        "id": "LnLzhu6vKLna",
        "colab_type": "code",
        "colab": {}
      },
      "source": [
        "df.set_index(\"eid\")"
      ],
      "execution_count": null,
      "outputs": []
    },
    {
      "cell_type": "code",
      "metadata": {
        "id": "uNqLxBZTKRMK",
        "colab_type": "code",
        "colab": {}
      },
      "source": [
        "df"
      ],
      "execution_count": null,
      "outputs": []
    },
    {
      "cell_type": "code",
      "metadata": {
        "id": "aKfhGagiKTN_",
        "colab_type": "code",
        "colab": {}
      },
      "source": [
        "df.set_index(\"eid\", inplace=True)"
      ],
      "execution_count": null,
      "outputs": []
    },
    {
      "cell_type": "code",
      "metadata": {
        "id": "EREuu_NvKXeL",
        "colab_type": "code",
        "colab": {}
      },
      "source": [
        "df"
      ],
      "execution_count": null,
      "outputs": []
    },
    {
      "cell_type": "markdown",
      "metadata": {
        "id": "xc4bifRfMdpD",
        "colab_type": "text"
      },
      "source": [
        "## Row and Column Selection (2)"
      ]
    },
    {
      "cell_type": "code",
      "metadata": {
        "id": "8mhbztPFLI9p",
        "colab_type": "code",
        "colab": {}
      },
      "source": [
        "df.loc[[\"E011\",\"E012\"], [\"name\", \"salary\"]]"
      ],
      "execution_count": null,
      "outputs": []
    },
    {
      "cell_type": "code",
      "metadata": {
        "id": "TQMD0JwRLiOl",
        "colab_type": "code",
        "colab": {}
      },
      "source": [
        "df.iloc[0]"
      ],
      "execution_count": null,
      "outputs": []
    },
    {
      "cell_type": "code",
      "metadata": {
        "id": "IJlP_BO_Lo0v",
        "colab_type": "code",
        "colab": {}
      },
      "source": [
        "df.iloc[[0,1]]"
      ],
      "execution_count": null,
      "outputs": []
    },
    {
      "cell_type": "code",
      "metadata": {
        "id": "OHir_luUMABT",
        "colab_type": "code",
        "colab": {}
      },
      "source": [
        "df.iloc[[0,1]][[\"name\",\"gender\"]]"
      ],
      "execution_count": null,
      "outputs": []
    },
    {
      "cell_type": "markdown",
      "metadata": {
        "id": "yl7Gs8d2NzE9",
        "colab_type": "text"
      },
      "source": [
        "## Reset Index"
      ]
    },
    {
      "cell_type": "code",
      "metadata": {
        "id": "6gQ6TxoZN2MU",
        "colab_type": "code",
        "colab": {}
      },
      "source": [
        "df.reset_index(inplace=True)"
      ],
      "execution_count": null,
      "outputs": []
    },
    {
      "cell_type": "code",
      "metadata": {
        "id": "XU0TD5cFN6Ho",
        "colab_type": "code",
        "colab": {}
      },
      "source": [
        "df"
      ],
      "execution_count": null,
      "outputs": []
    },
    {
      "cell_type": "markdown",
      "metadata": {
        "id": "LpogpC22Oujh",
        "colab_type": "text"
      },
      "source": [
        "## Reload the Dataframe\n",
        "\n"
      ]
    },
    {
      "cell_type": "code",
      "metadata": {
        "id": "iyERoOTYOz0T",
        "colab_type": "code",
        "colab": {}
      },
      "source": [
        "df = pd.read_csv(CSV_PATH)"
      ],
      "execution_count": null,
      "outputs": []
    },
    {
      "cell_type": "code",
      "metadata": {
        "id": "SpeE6sN0O5qa",
        "colab_type": "code",
        "colab": {}
      },
      "source": [
        "df"
      ],
      "execution_count": null,
      "outputs": []
    },
    {
      "cell_type": "markdown",
      "metadata": {
        "id": "VgzexoL5O8Rq",
        "colab_type": "text"
      },
      "source": [
        "## Range Selection"
      ]
    },
    {
      "cell_type": "code",
      "metadata": {
        "id": "sPhvCuSiPBWq",
        "colab_type": "code",
        "colab": {}
      },
      "source": [
        "df.loc[1:4]"
      ],
      "execution_count": null,
      "outputs": []
    },
    {
      "cell_type": "code",
      "metadata": {
        "id": "yEagpTWVPKUI",
        "colab_type": "code",
        "colab": {}
      },
      "source": [
        "df.loc[:4]"
      ],
      "execution_count": null,
      "outputs": []
    },
    {
      "cell_type": "code",
      "metadata": {
        "id": "4abeYf3xPR0O",
        "colab_type": "code",
        "colab": {}
      },
      "source": [
        "df.loc[4:]"
      ],
      "execution_count": null,
      "outputs": []
    },
    {
      "cell_type": "code",
      "metadata": {
        "id": "UqPi_UJAPZUE",
        "colab_type": "code",
        "colab": {}
      },
      "source": [
        "df.loc[1:3,[\"name\",\"age\"]]"
      ],
      "execution_count": null,
      "outputs": []
    },
    {
      "cell_type": "code",
      "metadata": {
        "id": "LtpnOOclPnq4",
        "colab_type": "code",
        "colab": {}
      },
      "source": [
        "df.iloc[1:3]"
      ],
      "execution_count": null,
      "outputs": []
    },
    {
      "cell_type": "markdown",
      "metadata": {
        "id": "rER2bBTxQqSF",
        "colab_type": "text"
      },
      "source": [
        "## Conditional Selection"
      ]
    },
    {
      "cell_type": "code",
      "metadata": {
        "id": "Jc97DDDWQzy7",
        "colab_type": "code",
        "colab": {}
      },
      "source": [
        "df"
      ],
      "execution_count": null,
      "outputs": []
    },
    {
      "cell_type": "code",
      "metadata": {
        "id": "gqhjwZ1KQ3vU",
        "colab_type": "code",
        "colab": {}
      },
      "source": [
        "df[\"working_years\"]"
      ],
      "execution_count": null,
      "outputs": []
    },
    {
      "cell_type": "code",
      "metadata": {
        "id": "Nf3AKHWvQ_SV",
        "colab_type": "code",
        "colab": {}
      },
      "source": [
        "df[\"working_years\"]>3"
      ],
      "execution_count": null,
      "outputs": []
    },
    {
      "cell_type": "code",
      "metadata": {
        "id": "NPuXkb9VRD8u",
        "colab_type": "code",
        "colab": {}
      },
      "source": [
        "df[df[\"working_years\"]>3]"
      ],
      "execution_count": null,
      "outputs": []
    },
    {
      "cell_type": "code",
      "metadata": {
        "id": "6pDh5aJURN95",
        "colab_type": "code",
        "colab": {}
      },
      "source": [
        "df[df[\"working_years\"]>3][[\"name\",\"working_years\", \"salary\"]]"
      ],
      "execution_count": null,
      "outputs": []
    },
    {
      "cell_type": "code",
      "metadata": {
        "id": "6LH93tR5Rczr",
        "colab_type": "code",
        "colab": {}
      },
      "source": [
        "df[ (df[\"working_years\"]>3) & (df[\"salary\"]>70000) ]"
      ],
      "execution_count": null,
      "outputs": []
    },
    {
      "cell_type": "code",
      "metadata": {
        "id": "87AcBuBGR0zQ",
        "colab_type": "code",
        "colab": {}
      },
      "source": [
        "df[ (df[\"working_years\"]>3) | (df[\"salary\"]>70000) ]"
      ],
      "execution_count": null,
      "outputs": []
    },
    {
      "cell_type": "markdown",
      "metadata": {
        "id": "S9C4rJJiUCnX",
        "colab_type": "text"
      },
      "source": [
        "## Column Operation"
      ]
    },
    {
      "cell_type": "code",
      "metadata": {
        "id": "EHS378JEVUih",
        "colab_type": "code",
        "colab": {}
      },
      "source": [
        "df[\"salary\"]"
      ],
      "execution_count": null,
      "outputs": []
    },
    {
      "cell_type": "code",
      "metadata": {
        "id": "bh0VEnXSVWmk",
        "colab_type": "code",
        "colab": {}
      },
      "source": [
        "df[\"salary\"]*12"
      ],
      "execution_count": null,
      "outputs": []
    },
    {
      "cell_type": "code",
      "metadata": {
        "id": "1vw3Ga6qVZaW",
        "colab_type": "code",
        "colab": {}
      },
      "source": [
        "df[\"salary\"]*df[\"working_years\"]"
      ],
      "execution_count": null,
      "outputs": []
    },
    {
      "cell_type": "markdown",
      "metadata": {
        "id": "LCTt_3kHVvIR",
        "colab_type": "text"
      },
      "source": [
        "## New Column"
      ]
    },
    {
      "cell_type": "code",
      "metadata": {
        "id": "I0RkwIeGUOre",
        "colab_type": "code",
        "colab": {}
      },
      "source": [
        "df[\"country\"] = \"Thailand\""
      ],
      "execution_count": null,
      "outputs": []
    },
    {
      "cell_type": "code",
      "metadata": {
        "id": "nmNvxbJXUTvs",
        "colab_type": "code",
        "colab": {}
      },
      "source": [
        "df"
      ],
      "execution_count": null,
      "outputs": []
    },
    {
      "cell_type": "code",
      "metadata": {
        "id": "l7u3E6iCV-Kg",
        "colab_type": "code",
        "colab": {}
      },
      "source": [
        "df[\"bonus\"]=df[\"salary\"]*df[\"working_years\"]"
      ],
      "execution_count": null,
      "outputs": []
    },
    {
      "cell_type": "code",
      "metadata": {
        "id": "Wfe47RW3WCIP",
        "colab_type": "code",
        "colab": {}
      },
      "source": [
        "df"
      ],
      "execution_count": null,
      "outputs": []
    },
    {
      "cell_type": "markdown",
      "metadata": {
        "id": "XDha6_1lWXK7",
        "colab_type": "text"
      },
      "source": [
        "## Drop Row"
      ]
    },
    {
      "cell_type": "code",
      "metadata": {
        "id": "40TIs9ExWb6A",
        "colab_type": "code",
        "colab": {}
      },
      "source": [
        "df.drop(7)"
      ],
      "execution_count": null,
      "outputs": []
    },
    {
      "cell_type": "code",
      "metadata": {
        "id": "tlfkiG8WWi6y",
        "colab_type": "code",
        "colab": {}
      },
      "source": [
        "df"
      ],
      "execution_count": null,
      "outputs": []
    },
    {
      "cell_type": "code",
      "metadata": {
        "id": "bVNEy2wXWzUQ",
        "colab_type": "code",
        "colab": {}
      },
      "source": [
        "df.drop(7, inplace=True)"
      ],
      "execution_count": null,
      "outputs": []
    },
    {
      "cell_type": "code",
      "metadata": {
        "id": "2jhUnaJMW520",
        "colab_type": "code",
        "colab": {}
      },
      "source": [
        "df"
      ],
      "execution_count": null,
      "outputs": []
    },
    {
      "cell_type": "markdown",
      "metadata": {
        "id": "1XuDAQWLW9Ja",
        "colab_type": "text"
      },
      "source": [
        "## Drop Column"
      ]
    },
    {
      "cell_type": "code",
      "metadata": {
        "id": "P0WnbQLcW8bd",
        "colab_type": "code",
        "colab": {}
      },
      "source": [
        "df.drop(\"country\", axis=1)"
      ],
      "execution_count": null,
      "outputs": []
    },
    {
      "cell_type": "code",
      "metadata": {
        "id": "Yw-3uyEEXX7R",
        "colab_type": "code",
        "colab": {}
      },
      "source": [
        "df.drop([\"country\",\"bonus\"], axis=1)"
      ],
      "execution_count": null,
      "outputs": []
    },
    {
      "cell_type": "code",
      "metadata": {
        "id": "nlqb0AOCXc64",
        "colab_type": "code",
        "colab": {}
      },
      "source": [
        "df"
      ],
      "execution_count": null,
      "outputs": []
    },
    {
      "cell_type": "code",
      "metadata": {
        "id": "1fHZJKOoXfjU",
        "colab_type": "code",
        "colab": {}
      },
      "source": [
        "df.drop([\"country\",\"bonus\"], axis=1, inplace=True)"
      ],
      "execution_count": null,
      "outputs": []
    },
    {
      "cell_type": "code",
      "metadata": {
        "id": "iiQ2TvNMXmUd",
        "colab_type": "code",
        "colab": {}
      },
      "source": [
        "df"
      ],
      "execution_count": null,
      "outputs": []
    },
    {
      "cell_type": "markdown",
      "metadata": {
        "id": "EwdpNnFBb7cW",
        "colab_type": "text"
      },
      "source": [
        "## Reload the Dataframe"
      ]
    },
    {
      "cell_type": "code",
      "metadata": {
        "id": "_7-rdOiTcEyP",
        "colab_type": "code",
        "colab": {}
      },
      "source": [
        "df = pd.read_csv(CSV_PATH)"
      ],
      "execution_count": null,
      "outputs": []
    },
    {
      "cell_type": "markdown",
      "metadata": {
        "id": "YxNB3fcBcL8-",
        "colab_type": "text"
      },
      "source": [
        "## Sorting"
      ]
    },
    {
      "cell_type": "code",
      "metadata": {
        "id": "zG24H3TPc_XB",
        "colab_type": "code",
        "colab": {}
      },
      "source": [
        "df.sort_values(\"salary\")"
      ],
      "execution_count": null,
      "outputs": []
    },
    {
      "cell_type": "code",
      "metadata": {
        "id": "bYHBZGaxdEb2",
        "colab_type": "code",
        "colab": {}
      },
      "source": [
        "df.sort_values([\"department\",\"salary\"])"
      ],
      "execution_count": null,
      "outputs": []
    },
    {
      "cell_type": "code",
      "metadata": {
        "id": "jmkUnViudRSc",
        "colab_type": "code",
        "colab": {}
      },
      "source": [
        "df.sort_values(\"salary\", ascending=False)"
      ],
      "execution_count": null,
      "outputs": []
    },
    {
      "cell_type": "code",
      "metadata": {
        "id": "8PxWdPrIdbnD",
        "colab_type": "code",
        "colab": {}
      },
      "source": [
        "df.sort_values(\"salary\", ascending=False, inplace=True)"
      ],
      "execution_count": null,
      "outputs": []
    },
    {
      "cell_type": "code",
      "metadata": {
        "id": "4SJdjQEQdh5j",
        "colab_type": "code",
        "colab": {}
      },
      "source": [
        "df"
      ],
      "execution_count": null,
      "outputs": []
    },
    {
      "cell_type": "code",
      "metadata": {
        "id": "kU6hS5k-dk4C",
        "colab_type": "code",
        "colab": {}
      },
      "source": [
        "df.loc[0:2]"
      ],
      "execution_count": null,
      "outputs": []
    },
    {
      "cell_type": "code",
      "metadata": {
        "id": "oPgLadKXdxDn",
        "colab_type": "code",
        "colab": {}
      },
      "source": [
        "df.iloc[0:2]"
      ],
      "execution_count": null,
      "outputs": []
    },
    {
      "cell_type": "markdown",
      "metadata": {
        "id": "7EsFKqVXePH6",
        "colab_type": "text"
      },
      "source": [
        "## Grouping"
      ]
    },
    {
      "cell_type": "code",
      "metadata": {
        "id": "VkO5cxwLeToc",
        "colab_type": "code",
        "colab": {}
      },
      "source": [
        "df.groupby(\"department\").mean()"
      ],
      "execution_count": null,
      "outputs": []
    },
    {
      "cell_type": "code",
      "metadata": {
        "id": "29lzedLqe6yL",
        "colab_type": "code",
        "colab": {}
      },
      "source": [
        "df.groupby(\"department\").max()"
      ],
      "execution_count": null,
      "outputs": []
    },
    {
      "cell_type": "code",
      "metadata": {
        "id": "tP21lULdegUl",
        "colab_type": "code",
        "colab": {}
      },
      "source": [
        "df.groupby([\"department\",\"gender\"]).mean()"
      ],
      "execution_count": null,
      "outputs": []
    },
    {
      "cell_type": "code",
      "metadata": {
        "id": "KQ6elpvQerq5",
        "colab_type": "code",
        "colab": {}
      },
      "source": [
        "df_group_obj = df.groupby(\"department\")"
      ],
      "execution_count": null,
      "outputs": []
    },
    {
      "cell_type": "code",
      "metadata": {
        "id": "2cZXnqkLexqu",
        "colab_type": "code",
        "colab": {}
      },
      "source": [
        "df_group_obj"
      ],
      "execution_count": null,
      "outputs": []
    },
    {
      "cell_type": "code",
      "metadata": {
        "id": "ltrgEAYQezZR",
        "colab_type": "code",
        "colab": {}
      },
      "source": [
        "df_group_obj.mean()"
      ],
      "execution_count": null,
      "outputs": []
    },
    {
      "cell_type": "code",
      "metadata": {
        "id": "hybyQ8vee3Jx",
        "colab_type": "code",
        "colab": {}
      },
      "source": [
        "df_group_obj.max()"
      ],
      "execution_count": null,
      "outputs": []
    },
    {
      "cell_type": "code",
      "metadata": {
        "id": "XdeiGOMvfDPo",
        "colab_type": "code",
        "colab": {}
      },
      "source": [
        "df.groupby(\"department\").min()"
      ],
      "execution_count": null,
      "outputs": []
    },
    {
      "cell_type": "code",
      "metadata": {
        "id": "kqKqqx9GfL55",
        "colab_type": "code",
        "colab": {}
      },
      "source": [
        "df.groupby(\"department\").count()"
      ],
      "execution_count": null,
      "outputs": []
    },
    {
      "cell_type": "code",
      "metadata": {
        "id": "c8PrMJ9cfblU",
        "colab_type": "code",
        "colab": {}
      },
      "source": [
        "df.groupby(\"department\").agg({\"mean\", \"count\"})"
      ],
      "execution_count": null,
      "outputs": []
    },
    {
      "cell_type": "code",
      "metadata": {
        "id": "NZ76V6wTfoMo",
        "colab_type": "code",
        "colab": {}
      },
      "source": [
        "df.groupby(\"department\")[\"age\"].agg({\"mean\", \"count\"})"
      ],
      "execution_count": null,
      "outputs": []
    },
    {
      "cell_type": "code",
      "metadata": {
        "id": "doboPXPefssa",
        "colab_type": "code",
        "colab": {}
      },
      "source": [
        "df.groupby(\"department\").agg({\"age\":\"min\", \"salary\":\"mean\"})"
      ],
      "execution_count": null,
      "outputs": []
    },
    {
      "cell_type": "code",
      "metadata": {
        "id": "Er6SyVeyhApz",
        "colab_type": "code",
        "colab": {}
      },
      "source": [
        "df.groupby(\"department\").agg({\"age\":[\"min\",\"max\"], \"salary\":\"mean\"})"
      ],
      "execution_count": null,
      "outputs": []
    },
    {
      "cell_type": "code",
      "metadata": {
        "id": "Vd2Eq4SCh274",
        "colab_type": "code",
        "colab": {}
      },
      "source": [
        "dfg = df.groupby(\"department\").agg({\"age\":[\"min\",\"max\"], \"salary\":\"mean\"})"
      ],
      "execution_count": null,
      "outputs": []
    },
    {
      "cell_type": "code",
      "metadata": {
        "id": "c8Q4ATTXiLeW",
        "colab_type": "code",
        "colab": {}
      },
      "source": [
        "dfg"
      ],
      "execution_count": null,
      "outputs": []
    },
    {
      "cell_type": "code",
      "metadata": {
        "id": "BrSKEH96h9P2",
        "colab_type": "code",
        "colab": {}
      },
      "source": [
        "dfg.columns"
      ],
      "execution_count": null,
      "outputs": []
    },
    {
      "cell_type": "code",
      "metadata": {
        "id": "iWtVcofriCAS",
        "colab_type": "code",
        "colab": {}
      },
      "source": [
        "dfg.columns.ravel()"
      ],
      "execution_count": null,
      "outputs": []
    },
    {
      "cell_type": "code",
      "metadata": {
        "id": "Y580J6yViFAL",
        "colab_type": "code",
        "colab": {}
      },
      "source": [
        "[\"_\".join(x) for x in dfg.columns.ravel()]"
      ],
      "execution_count": null,
      "outputs": []
    },
    {
      "cell_type": "code",
      "metadata": {
        "id": "PP_7KedDhZHV",
        "colab_type": "code",
        "colab": {}
      },
      "source": [
        "dfg.columns = [\"_\".join(x) for x in dfg.columns.ravel()]"
      ],
      "execution_count": null,
      "outputs": []
    },
    {
      "cell_type": "code",
      "metadata": {
        "id": "-MyXghOxiJhC",
        "colab_type": "code",
        "colab": {}
      },
      "source": [
        "dfg"
      ],
      "execution_count": null,
      "outputs": []
    },
    {
      "cell_type": "code",
      "metadata": {
        "id": "GY2uoK8OiWJI",
        "colab_type": "code",
        "colab": {}
      },
      "source": [
        "dfg[\"age_min\"]"
      ],
      "execution_count": null,
      "outputs": []
    },
    {
      "cell_type": "code",
      "metadata": {
        "id": "kG-4X0-SidBr",
        "colab_type": "code",
        "colab": {}
      },
      "source": [
        "dfg.reset_index()"
      ],
      "execution_count": null,
      "outputs": []
    },
    {
      "cell_type": "code",
      "metadata": {
        "id": "q6-Mb96IigiD",
        "colab_type": "code",
        "colab": {}
      },
      "source": [
        "dfg.reset_index(inplace=True)"
      ],
      "execution_count": null,
      "outputs": []
    },
    {
      "cell_type": "code",
      "metadata": {
        "id": "eNJzHq2sijIM",
        "colab_type": "code",
        "colab": {}
      },
      "source": [
        "dfg"
      ],
      "execution_count": null,
      "outputs": []
    },
    {
      "cell_type": "markdown",
      "metadata": {
        "id": "Ul92urXrk_Ul",
        "colab_type": "text"
      },
      "source": [
        "## Reload the Dataset"
      ]
    },
    {
      "cell_type": "code",
      "metadata": {
        "id": "cSdNs7hLlCQb",
        "colab_type": "code",
        "colab": {}
      },
      "source": [
        "df = pd.read_csv(CSV_PATH)"
      ],
      "execution_count": null,
      "outputs": []
    },
    {
      "cell_type": "markdown",
      "metadata": {
        "id": "OjEFT0wrlIQ-",
        "colab_type": "text"
      },
      "source": [
        "## Iteration"
      ]
    },
    {
      "cell_type": "code",
      "metadata": {
        "id": "MgNu0oYulH1A",
        "colab_type": "code",
        "colab": {}
      },
      "source": [
        "for index, row in df.iterrows():\n",
        "  print(index)"
      ],
      "execution_count": null,
      "outputs": []
    },
    {
      "cell_type": "code",
      "metadata": {
        "id": "K5sHkRklmDbE",
        "colab_type": "code",
        "colab": {}
      },
      "source": [
        "for index, row in df.iterrows():\n",
        "  print(row[\"eid\"], row[\"name\"], row[\"salary\"])"
      ],
      "execution_count": null,
      "outputs": []
    },
    {
      "cell_type": "code",
      "metadata": {
        "id": "csR1GLwUmXhk",
        "colab_type": "code",
        "colab": {}
      },
      "source": [
        "for index, row in df.iterrows():\n",
        "  if row[\"salary\"]>70000:\n",
        "    df.loc[index,\"should_pay_ot\"] = \"NO\"\n",
        "  elif row[\"salary\"]>50000:\n",
        "    df.loc[index,\"should_pay_ot\"] = \"MAY BE\"\n",
        "  else:\n",
        "    df.loc[index,\"should_pay_ot\"] = \"YES\""
      ],
      "execution_count": null,
      "outputs": []
    },
    {
      "cell_type": "code",
      "metadata": {
        "id": "weqyQWMemquJ",
        "colab_type": "code",
        "colab": {}
      },
      "source": [
        "df"
      ],
      "execution_count": null,
      "outputs": []
    },
    {
      "cell_type": "markdown",
      "metadata": {
        "id": "w1Np_M8uoNr9",
        "colab_type": "text"
      },
      "source": [
        "## Reload the Dataset"
      ]
    },
    {
      "cell_type": "code",
      "metadata": {
        "id": "SwRtKPR5oOSv",
        "colab_type": "code",
        "colab": {}
      },
      "source": [
        "df = pd.read_csv(CSV_PATH)"
      ],
      "execution_count": null,
      "outputs": []
    },
    {
      "cell_type": "markdown",
      "metadata": {
        "id": "QqvmUBn0n-Js",
        "colab_type": "text"
      },
      "source": [
        "## Apply Function"
      ]
    },
    {
      "cell_type": "code",
      "metadata": {
        "id": "HEYwJoyKo_Ki",
        "colab_type": "code",
        "colab": {}
      },
      "source": [
        "np.log(1000)"
      ],
      "execution_count": null,
      "outputs": []
    },
    {
      "cell_type": "code",
      "metadata": {
        "id": "hAf2OQxooFnP",
        "colab_type": "code",
        "colab": {}
      },
      "source": [
        "df[\"salary\"]"
      ],
      "execution_count": null,
      "outputs": []
    },
    {
      "cell_type": "code",
      "metadata": {
        "id": "1j4TKh7go2B9",
        "colab_type": "code",
        "colab": {}
      },
      "source": [
        "df[\"salary\"].apply(np.log)"
      ],
      "execution_count": null,
      "outputs": []
    },
    {
      "cell_type": "code",
      "metadata": {
        "id": "AxcoHjZdpEC-",
        "colab_type": "code",
        "colab": {}
      },
      "source": [
        "df[\"salary\"].apply(np.sqrt)"
      ],
      "execution_count": null,
      "outputs": []
    },
    {
      "cell_type": "code",
      "metadata": {
        "id": "81WS-lbtpuPh",
        "colab_type": "code",
        "colab": {}
      },
      "source": [
        "def times10(num):\n",
        "  return num*10"
      ],
      "execution_count": null,
      "outputs": []
    },
    {
      "cell_type": "code",
      "metadata": {
        "id": "uqpoMBfvpnPV",
        "colab_type": "code",
        "colab": {}
      },
      "source": [
        "times10(5)"
      ],
      "execution_count": null,
      "outputs": []
    },
    {
      "cell_type": "code",
      "metadata": {
        "id": "EIWDdHSyqLEx",
        "colab_type": "code",
        "colab": {}
      },
      "source": [
        "df[\"age\"]"
      ],
      "execution_count": null,
      "outputs": []
    },
    {
      "cell_type": "code",
      "metadata": {
        "id": "IgU5SN7TqNLQ",
        "colab_type": "code",
        "colab": {}
      },
      "source": [
        "df[\"age\"].apply(times10)"
      ],
      "execution_count": null,
      "outputs": []
    },
    {
      "cell_type": "code",
      "metadata": {
        "id": "0ExC438mqbwz",
        "colab_type": "code",
        "colab": {}
      },
      "source": [
        "df[\"age\"].apply(lambda x: x*10)"
      ],
      "execution_count": null,
      "outputs": []
    },
    {
      "cell_type": "code",
      "metadata": {
        "id": "VVIW-bD4pJH0",
        "colab_type": "code",
        "colab": {}
      },
      "source": [
        "def consider_ot_payment(salary):\n",
        "  result = \"\"\n",
        "  if salary>70000:\n",
        "    result = \"NO\"\n",
        "  elif salary>50000:\n",
        "    result = \"MAY BE\"\n",
        "  else:\n",
        "    result = \"YES\"\n",
        "    \n",
        "  return result"
      ],
      "execution_count": null,
      "outputs": []
    },
    {
      "cell_type": "code",
      "metadata": {
        "id": "QxHRyUPfqySm",
        "colab_type": "code",
        "colab": {}
      },
      "source": [
        "df[\"salary\"].apply(consider_ot_payment)"
      ],
      "execution_count": null,
      "outputs": []
    },
    {
      "cell_type": "code",
      "metadata": {
        "id": "x0frzOKCq6nX",
        "colab_type": "code",
        "colab": {}
      },
      "source": [
        "df[\"should_pay_ot\"] = df[\"salary\"].apply(consider_ot_payment)"
      ],
      "execution_count": null,
      "outputs": []
    },
    {
      "cell_type": "code",
      "metadata": {
        "id": "EFORtttWq-tN",
        "colab_type": "code",
        "colab": {}
      },
      "source": [
        "df"
      ],
      "execution_count": null,
      "outputs": []
    },
    {
      "cell_type": "markdown",
      "metadata": {
        "id": "Pdga4WTlrxlh",
        "colab_type": "text"
      },
      "source": [
        "## Save into a CSV file"
      ]
    },
    {
      "cell_type": "code",
      "metadata": {
        "id": "3s3FC6ior3Pd",
        "colab_type": "code",
        "colab": {}
      },
      "source": [
        "df.to_csv(\"employee.csv\")"
      ],
      "execution_count": null,
      "outputs": []
    },
    {
      "cell_type": "code",
      "metadata": {
        "id": "dmGnePMFsDxC",
        "colab_type": "code",
        "colab": {}
      },
      "source": [
        "pd.read_csv(\"employee.csv\")"
      ],
      "execution_count": null,
      "outputs": []
    },
    {
      "cell_type": "code",
      "metadata": {
        "id": "2q-HnMU3sNF5",
        "colab_type": "code",
        "colab": {}
      },
      "source": [
        "df.to_csv(\"employee.csv\", index=False)"
      ],
      "execution_count": null,
      "outputs": []
    },
    {
      "cell_type": "code",
      "metadata": {
        "id": "Z-3vY-pfsPAy",
        "colab_type": "code",
        "colab": {}
      },
      "source": [
        "pd.read_csv(\"employee.csv\")"
      ],
      "execution_count": null,
      "outputs": []
    },
    {
      "cell_type": "markdown",
      "metadata": {
        "id": "D7AU1zo5sf9q",
        "colab_type": "text"
      },
      "source": [
        "\n",
        "\n",
        "---\n",
        "https://rathachai.creatier.pro/\n",
        "\n",
        "## つづく"
      ]
    }
  ]
}