{
  "nbformat": 4,
  "nbformat_minor": 0,
  "metadata": {
    "colab": {
      "name": "BOSTON LM.ipynb",
      "provenance": []
    },
    "kernelspec": {
      "name": "python3",
      "display_name": "Python 3"
    }
  },
  "cells": [
    {
      "cell_type": "markdown",
      "metadata": {
        "id": "i7_MKoJ0kkOA",
        "colab_type": "text"
      },
      "source": [
        "# Linear Regression on Boston Dataset for the Data Analytics Session\n",
        "by Rathachai C.\n"
      ]
    },
    {
      "cell_type": "markdown",
      "metadata": {
        "id": "fZ2Iv1X_kvtk",
        "colab_type": "text"
      },
      "source": [
        "## 1) To load libraries"
      ]
    },
    {
      "cell_type": "code",
      "metadata": {
        "id": "zAvT2DxEj5OF",
        "colab_type": "code",
        "colab": {}
      },
      "source": [
        "import pandas as pd\n",
        "import numpy as np\n",
        "import matplotlib.pyplot as plt\n",
        "import seaborn as sns\n",
        "%matplotlib inline\n",
        "\n",
        "from sklearn.model_selection import train_test_split\n",
        "from sklearn.linear_model import LinearRegression\n",
        "from sklearn import metrics"
      ],
      "execution_count": 0,
      "outputs": []
    },
    {
      "cell_type": "markdown",
      "metadata": {
        "id": "cHqjvjs4t7i1",
        "colab_type": "text"
      },
      "source": [
        "\n",
        "\n",
        "---\n",
        "\n"
      ]
    },
    {
      "cell_type": "markdown",
      "metadata": {
        "id": "-ev_5HJ8k1JD",
        "colab_type": "text"
      },
      "source": [
        "## 2) To load data and check"
      ]
    },
    {
      "cell_type": "code",
      "metadata": {
        "id": "iyKRl8AFkDX-",
        "colab_type": "code",
        "colab": {}
      },
      "source": [
        "boston = pd.read_csv('https://rathachai.github.io/DA101/data/boston.csv')"
      ],
      "execution_count": 0,
      "outputs": []
    },
    {
      "cell_type": "code",
      "metadata": {
        "id": "a7gbpBr0kTfg",
        "colab_type": "code",
        "colab": {}
      },
      "source": [
        "boston"
      ],
      "execution_count": 0,
      "outputs": []
    },
    {
      "cell_type": "code",
      "metadata": {
        "id": "SWylIoRukUp4",
        "colab_type": "code",
        "colab": {}
      },
      "source": [
        "boston.info()"
      ],
      "execution_count": 0,
      "outputs": []
    },
    {
      "cell_type": "code",
      "metadata": {
        "id": "IBJ0E-0XkZK6",
        "colab_type": "code",
        "colab": {}
      },
      "source": [
        "boston.describe()"
      ],
      "execution_count": 0,
      "outputs": []
    },
    {
      "cell_type": "markdown",
      "metadata": {
        "id": "IjiSxANZt-Hx",
        "colab_type": "text"
      },
      "source": [
        "\n",
        "\n",
        "---\n",
        "\n"
      ]
    },
    {
      "cell_type": "markdown",
      "metadata": {
        "id": "rOlQf3Ppk-DU",
        "colab_type": "text"
      },
      "source": [
        "## 3) To do data exploration"
      ]
    },
    {
      "cell_type": "code",
      "metadata": {
        "id": "BTA4esfLkdsx",
        "colab_type": "code",
        "colab": {}
      },
      "source": [
        "sns.pairplot(boston)"
      ],
      "execution_count": 0,
      "outputs": []
    },
    {
      "cell_type": "code",
      "metadata": {
        "id": "X91zfmhxmaSc",
        "colab_type": "code",
        "colab": {}
      },
      "source": [
        "sns.pairplot(boston, x_vars=boston.columns, y_vars=[\"medv\"])"
      ],
      "execution_count": 0,
      "outputs": []
    },
    {
      "cell_type": "code",
      "metadata": {
        "id": "b8djk9VTlHMN",
        "colab_type": "code",
        "colab": {}
      },
      "source": [
        "sns.distplot(boston['medv'])"
      ],
      "execution_count": 0,
      "outputs": []
    },
    {
      "cell_type": "markdown",
      "metadata": {
        "id": "iDOP54vouBa0",
        "colab_type": "text"
      },
      "source": [
        "\n",
        "\n",
        "---\n",
        "\n"
      ]
    },
    {
      "cell_type": "markdown",
      "metadata": {
        "id": "qTGhyuFmsaSj",
        "colab_type": "text"
      },
      "source": [
        "## 4) To do feature selection"
      ]
    },
    {
      "cell_type": "markdown",
      "metadata": {
        "id": "viYZhiudsqsS",
        "colab_type": "text"
      },
      "source": [
        "### 4.1) to check the correlation"
      ]
    },
    {
      "cell_type": "code",
      "metadata": {
        "id": "7EC0fc_Zm8og",
        "colab_type": "code",
        "colab": {}
      },
      "source": [
        "boston.corr()"
      ],
      "execution_count": 0,
      "outputs": []
    },
    {
      "cell_type": "code",
      "metadata": {
        "id": "e91d5ATBm97-",
        "colab_type": "code",
        "colab": {}
      },
      "source": [
        "sns.heatmap(boston.corr())"
      ],
      "execution_count": 0,
      "outputs": []
    },
    {
      "cell_type": "code",
      "metadata": {
        "id": "mUjMbpNFnTan",
        "colab_type": "code",
        "colab": {}
      },
      "source": [
        "boston.corr().sort_values(\"medv\")[\"medv\"]"
      ],
      "execution_count": 0,
      "outputs": []
    },
    {
      "cell_type": "code",
      "metadata": {
        "id": "BM4pWkRooXNc",
        "colab_type": "code",
        "colab": {}
      },
      "source": [
        "sns.pairplot(boston, x_vars=[\"lstat\",\"rm\"], y_vars=[\"medv\"])"
      ],
      "execution_count": 0,
      "outputs": []
    },
    {
      "cell_type": "markdown",
      "metadata": {
        "id": "6RpoCk6on51Q",
        "colab_type": "text"
      },
      "source": [
        "### 4.2) to select data"
      ]
    },
    {
      "cell_type": "code",
      "metadata": {
        "id": "W7arbsYVnwwc",
        "colab_type": "code",
        "colab": {}
      },
      "source": [
        "X = boston[[\"lstat\",\"rm\"]]\n",
        "y = boston[\"medv\"]"
      ],
      "execution_count": 0,
      "outputs": []
    },
    {
      "cell_type": "code",
      "metadata": {
        "id": "htpl01JYoHoT",
        "colab_type": "code",
        "colab": {}
      },
      "source": [
        "X"
      ],
      "execution_count": 0,
      "outputs": []
    },
    {
      "cell_type": "code",
      "metadata": {
        "id": "7Dtvs-YZoN3Y",
        "colab_type": "code",
        "colab": {}
      },
      "source": [
        "y"
      ],
      "execution_count": 0,
      "outputs": []
    },
    {
      "cell_type": "markdown",
      "metadata": {
        "id": "10CRmLsnuEWk",
        "colab_type": "text"
      },
      "source": [
        "\n",
        "\n",
        "---\n",
        "\n"
      ]
    },
    {
      "cell_type": "markdown",
      "metadata": {
        "id": "Gmak0uKEtAh5",
        "colab_type": "text"
      },
      "source": [
        "## 5) To create a Linear Regression Model"
      ]
    },
    {
      "cell_type": "markdown",
      "metadata": {
        "id": "GxpiMMJoozmw",
        "colab_type": "text"
      },
      "source": [
        "### 5.1) to split train and test datasets"
      ]
    },
    {
      "cell_type": "code",
      "metadata": {
        "id": "qUp-9KEEoPkD",
        "colab_type": "code",
        "colab": {}
      },
      "source": [
        "X_train, X_test, y_train, y_test = train_test_split(X, y, test_size=0.4, random_state=101)"
      ],
      "execution_count": 0,
      "outputs": []
    },
    {
      "cell_type": "markdown",
      "metadata": {
        "id": "_Wn3GYJLpQ_d",
        "colab_type": "text"
      },
      "source": [
        "## 5.2) to train and create a linear regression model"
      ]
    },
    {
      "cell_type": "code",
      "metadata": {
        "id": "i_o1zQWRpI_3",
        "colab_type": "code",
        "colab": {}
      },
      "source": [
        "lm = LinearRegression()"
      ],
      "execution_count": 0,
      "outputs": []
    },
    {
      "cell_type": "code",
      "metadata": {
        "id": "kBKQoF-Upmrb",
        "colab_type": "code",
        "colab": {}
      },
      "source": [
        "lm.fit(X_train,y_train)"
      ],
      "execution_count": 0,
      "outputs": []
    },
    {
      "cell_type": "code",
      "metadata": {
        "id": "j-iLflRipqDF",
        "colab_type": "code",
        "colab": {}
      },
      "source": [
        "lm.coef_"
      ],
      "execution_count": 0,
      "outputs": []
    },
    {
      "cell_type": "code",
      "metadata": {
        "id": "6lMk6ajZprfC",
        "colab_type": "code",
        "colab": {}
      },
      "source": [
        "lm.intercept_"
      ],
      "execution_count": 0,
      "outputs": []
    },
    {
      "cell_type": "markdown",
      "metadata": {
        "id": "FuxySZkAuG33",
        "colab_type": "text"
      },
      "source": [
        "\n",
        "\n",
        "---\n",
        "\n"
      ]
    },
    {
      "cell_type": "markdown",
      "metadata": {
        "id": "AkRyeKpuqKAZ",
        "colab_type": "text"
      },
      "source": [
        "## 6) To evaluate the model"
      ]
    },
    {
      "cell_type": "markdown",
      "metadata": {
        "id": "vFFJFWHstax9",
        "colab_type": "text"
      },
      "source": [
        "### 6.1) to predict from the test set"
      ]
    },
    {
      "cell_type": "code",
      "metadata": {
        "id": "0BFM3sE4pxH9",
        "colab_type": "code",
        "colab": {}
      },
      "source": [
        "y_pred = lm.predict(X_test)"
      ],
      "execution_count": 0,
      "outputs": []
    },
    {
      "cell_type": "code",
      "metadata": {
        "id": "SQ2nB6mGqfpN",
        "colab_type": "code",
        "colab": {}
      },
      "source": [
        "y_pred"
      ],
      "execution_count": 0,
      "outputs": []
    },
    {
      "cell_type": "markdown",
      "metadata": {
        "id": "GmFMYhnCq3d-",
        "colab_type": "text"
      },
      "source": [
        "### 6.2 to evaluate with some evaluation methods"
      ]
    },
    {
      "cell_type": "code",
      "metadata": {
        "id": "2KZiUHi_qgSz",
        "colab_type": "code",
        "colab": {}
      },
      "source": [
        "plt.scatter(y_test,y_pred)"
      ],
      "execution_count": 0,
      "outputs": []
    },
    {
      "cell_type": "code",
      "metadata": {
        "id": "pkaUsLvVql4j",
        "colab_type": "code",
        "colab": {}
      },
      "source": [
        "rmse = np.sqrt(metrics.mean_squared_error(y_test, y_pred))\n",
        "print(\"RMSE = \", rmse)"
      ],
      "execution_count": 0,
      "outputs": []
    },
    {
      "cell_type": "code",
      "metadata": {
        "id": "TxzHtBgorDSG",
        "colab_type": "code",
        "colab": {}
      },
      "source": [
        "mape = np.mean(np.abs((y_test - y_pred) / y_test)) * 100\n",
        "print(\"MAPE = \", mape, \"%\")"
      ],
      "execution_count": 0,
      "outputs": []
    },
    {
      "cell_type": "markdown",
      "metadata": {
        "id": "J0GKDCwWuQgb",
        "colab_type": "text"
      },
      "source": [
        "\n",
        "\n",
        "---\n",
        "\n"
      ]
    },
    {
      "cell_type": "markdown",
      "metadata": {
        "id": "MlxBcRVTuSTM",
        "colab_type": "text"
      },
      "source": [
        "## Exercises\n",
        "\n",
        "\n",
        "1.   apply feature scaling (hint: https://scikit-learn.org/stable/modules/preprocessing.html)\n",
        "2.   work with 5-fold cross-validation  (hint: https://scikit-learn.org/stable/modules/generated/sklearn.model_selection.KFold.html)\n",
        "3.   evaluate using RMSE\n",
        "\n"
      ]
    },
    {
      "cell_type": "markdown",
      "metadata": {
        "id": "7il_CFPbu3xz",
        "colab_type": "text"
      },
      "source": [
        "### do your exerciese here"
      ]
    },
    {
      "cell_type": "code",
      "metadata": {
        "id": "-iPR4nFdvCV3",
        "colab_type": "code",
        "colab": {}
      },
      "source": [
        "# run your code here"
      ],
      "execution_count": 0,
      "outputs": []
    }
  ]
}